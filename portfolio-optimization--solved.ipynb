{
 "cells": [
  {
   "cell_type": "markdown",
   "metadata": {},
   "source": [
    "In this notebook, we'll work through an example of portfolio optimization. The exercises we do are related to the work by Harry Markowitz, a UChicago grad and winner of the Nobel prize in economics in 1990."
   ]
  },
  {
   "cell_type": "code",
   "execution_count": 1,
   "metadata": {},
   "outputs": [],
   "source": [
    "# always import all necessary libraries at the top of the file\n",
    "import numpy as np\n",
    "import scipy.optimize\n",
    "from matplotlib import pyplot as plt\n",
    "import pandas as pd"
   ]
  },
  {
   "cell_type": "markdown",
   "metadata": {},
   "source": [
    "# Data\n",
    "\n",
    "In this folder, there should be a file called `dataAssets.csv`. Make sure that you have this file. Run the code below to load the data into numpy arrays.\n",
    "\n",
    "In the matrix of prices, each row corresponds to a day. The columns correspond, (in order,) to the S&P 500 index, USD index, crude oil index, HYG index, and U.S. 10-yr Treasury index."
   ]
  },
  {
   "cell_type": "code",
   "execution_count": 2,
   "metadata": {},
   "outputs": [],
   "source": [
    "url = 'https://raw.githubusercontent.com/jmbejara/bfi-reu-2019/master/dataAssets.csv'\n",
    "data_assets = pd.read_csv(url, parse_dates=['date'])"
   ]
  },
  {
   "cell_type": "code",
   "execution_count": 3,
   "metadata": {},
   "outputs": [
    {
     "data": {
      "text/html": [
       "<div>\n",
       "<style scoped>\n",
       "    .dataframe tbody tr th:only-of-type {\n",
       "        vertical-align: middle;\n",
       "    }\n",
       "\n",
       "    .dataframe tbody tr th {\n",
       "        vertical-align: top;\n",
       "    }\n",
       "\n",
       "    .dataframe thead th {\n",
       "        text-align: right;\n",
       "    }\n",
       "</style>\n",
       "<table border=\"1\" class=\"dataframe\">\n",
       "  <thead>\n",
       "    <tr style=\"text-align: right;\">\n",
       "      <th></th>\n",
       "      <th>date</th>\n",
       "      <th>sp500</th>\n",
       "      <th>USD_index</th>\n",
       "      <th>crude_oil</th>\n",
       "      <th>HYG</th>\n",
       "      <th>treasury_10yr</th>\n",
       "    </tr>\n",
       "  </thead>\n",
       "  <tbody>\n",
       "    <tr>\n",
       "      <th>0</th>\n",
       "      <td>2013-08-07</td>\n",
       "      <td>1690.91</td>\n",
       "      <td>81.287</td>\n",
       "      <td>87.83</td>\n",
       "      <td>91.36</td>\n",
       "      <td>2.5986</td>\n",
       "    </tr>\n",
       "    <tr>\n",
       "      <th>1</th>\n",
       "      <td>2013-08-08</td>\n",
       "      <td>1697.48</td>\n",
       "      <td>80.977</td>\n",
       "      <td>87.50</td>\n",
       "      <td>91.56</td>\n",
       "      <td>2.5892</td>\n",
       "    </tr>\n",
       "    <tr>\n",
       "      <th>2</th>\n",
       "      <td>2013-08-09</td>\n",
       "      <td>1691.42</td>\n",
       "      <td>81.126</td>\n",
       "      <td>87.95</td>\n",
       "      <td>91.57</td>\n",
       "      <td>2.5784</td>\n",
       "    </tr>\n",
       "    <tr>\n",
       "      <th>3</th>\n",
       "      <td>2013-08-12</td>\n",
       "      <td>1689.47</td>\n",
       "      <td>81.333</td>\n",
       "      <td>88.19</td>\n",
       "      <td>91.49</td>\n",
       "      <td>2.6206</td>\n",
       "    </tr>\n",
       "    <tr>\n",
       "      <th>4</th>\n",
       "      <td>2013-08-14</td>\n",
       "      <td>1685.39</td>\n",
       "      <td>81.711</td>\n",
       "      <td>88.47</td>\n",
       "      <td>91.31</td>\n",
       "      <td>2.7136</td>\n",
       "    </tr>\n",
       "  </tbody>\n",
       "</table>\n",
       "</div>"
      ],
      "text/plain": [
       "        date    sp500  USD_index  crude_oil    HYG  treasury_10yr\n",
       "0 2013-08-07  1690.91     81.287      87.83  91.36         2.5986\n",
       "1 2013-08-08  1697.48     80.977      87.50  91.56         2.5892\n",
       "2 2013-08-09  1691.42     81.126      87.95  91.57         2.5784\n",
       "3 2013-08-12  1689.47     81.333      88.19  91.49         2.6206\n",
       "4 2013-08-14  1685.39     81.711      88.47  91.31         2.7136"
      ]
     },
     "execution_count": 3,
     "metadata": {},
     "output_type": "execute_result"
    }
   ],
   "source": [
    "data_assets.head()"
   ]
  },
  {
   "cell_type": "code",
   "execution_count": 4,
   "metadata": {},
   "outputs": [],
   "source": [
    "# For practice, we'll use Numpy. In the future, you should use Pandas\n",
    "prices = data_assets.iloc[:,1:].values\n",
    "dates = data_assets.iloc[:,0].values"
   ]
  },
  {
   "cell_type": "markdown",
   "metadata": {},
   "source": [
    "# Portfolio\n",
    "\n",
    " - (1) Calculate log return rates using the given price data (log of the gross returns). Multiply by 100 so that the returns are in percetages."
   ]
  },
  {
   "cell_type": "code",
   "execution_count": 5,
   "metadata": {},
   "outputs": [],
   "source": [
    "rets = np.log(prices[1:,:]/prices[:-1,:]) * 100"
   ]
  },
  {
   "cell_type": "markdown",
   "metadata": {},
   "source": [
    "- (2) Form a portfolio of data, equally split between the S&P 500 and the Oil Index."
   ]
  },
  {
   "cell_type": "code",
   "execution_count": 6,
   "metadata": {},
   "outputs": [],
   "source": [
    "portfolio = 0.5 * rets[:,0] + 0.5 * rets[:,2]"
   ]
  },
  {
   "cell_type": "markdown",
   "metadata": {},
   "source": [
    "- (3) Calculate the 20th percentile of the return history on this portfolio. (Use `numpy.percentile`. Be sure to specify in terms of percetages---between 0 and 100.)"
   ]
  },
  {
   "cell_type": "code",
   "execution_count": 7,
   "metadata": {},
   "outputs": [
    {
     "data": {
      "text/plain": [
       "-0.3353242451831822"
      ]
     },
     "execution_count": 7,
     "metadata": {},
     "output_type": "execute_result"
    }
   ],
   "source": [
    "percent = 30\n",
    "np.percentile(portfolio, percent)"
   ]
  },
  {
   "cell_type": "markdown",
   "metadata": {},
   "source": [
    " - (4) Use `matplotlib.pyplot.hist` to create a histogram of the returns on this portfolio. Also plot a separate figure with a histogram of the returns for the S&P 500 and for Oil on the same plot. Use labels to distinguish them. You should probably plot Oil first, or at least set the alpha (transparancy) on each plot to something like 0.5. Be sure to include a legend."
   ]
  },
  {
   "cell_type": "code",
   "execution_count": 8,
   "metadata": {},
   "outputs": [
    {
     "data": {
      "image/png": "[encoded data removed]",
      "text/plain": [
       "<Figure size 432x288 with 1 Axes>"
      ]
     },
     "metadata": {
      "needs_background": "light"
     },
     "output_type": "display_data"
    }
   ],
   "source": [
    "plt.hist(portfolio);"
   ]
  },
  {
   "cell_type": "code",
   "execution_count": 9,
   "metadata": {},
   "outputs": [
    {
     "data": {
      "text/plain": [
       "<matplotlib.legend.Legend at 0x1fc42780320>"
      ]
     },
     "execution_count": 9,
     "metadata": {},
     "output_type": "execute_result"
    },
    {
     "data": {
      "image/png": "[encoded data removed]",
      "text/plain": [
       "<Figure size 432x288 with 1 Axes>"
      ]
     },
     "metadata": {
      "needs_background": "light"
     },
     "output_type": "display_data"
    }
   ],
   "source": [
    "plt.hist(rets[:,2], alpha=.5, label='Oil');\n",
    "plt.hist(rets[:,0], alpha=.5, label='S&P 500');\n",
    "plt.legend()"
   ]
  },
  {
   "cell_type": "code",
   "execution_count": 10,
   "metadata": {},
   "outputs": [
    {
     "data": {
      "text/plain": [
       "[<matplotlib.lines.Line2D at 0x1fc4286fe48>]"
      ]
     },
     "execution_count": 10,
     "metadata": {},
     "output_type": "execute_result"
    },
    {
     "data": {
      "image/png": "[encoded data removed]",
      "text/plain": [
       "<Figure size 432x288 with 1 Axes>"
      ]
     },
     "metadata": {
      "needs_background": "light"
     },
     "output_type": "display_data"
    }
   ],
   "source": [
    "plt.plot(rets[:,2])"
   ]
  },
  {
   "cell_type": "markdown",
   "metadata": {},
   "source": [
    "Below is an example of how you would use Pandas. Note the index provides automatic data alignment. This is an important feature that can help reduce errors."
   ]
  },
  {
   "cell_type": "code",
   "execution_count": 11,
   "metadata": {},
   "outputs": [],
   "source": [
    "# This is how you would construct returns with Pandas\n",
    "df = data_assets.copy()\n",
    "df = df.set_index('date')\n",
    "df_ret = df.apply(lambda col: col/col.shift(1)-1)"
   ]
  },
  {
   "cell_type": "code",
   "execution_count": 12,
   "metadata": {},
   "outputs": [
    {
     "data": {
      "text/html": [
       "<div>\n",
       "<style scoped>\n",
       "    .dataframe tbody tr th:only-of-type {\n",
       "        vertical-align: middle;\n",
       "    }\n",
       "\n",
       "    .dataframe tbody tr th {\n",
       "        vertical-align: top;\n",
       "    }\n",
       "\n",
       "    .dataframe thead th {\n",
       "        text-align: right;\n",
       "    }\n",
       "</style>\n",
       "<table border=\"1\" class=\"dataframe\">\n",
       "  <thead>\n",
       "    <tr style=\"text-align: right;\">\n",
       "      <th></th>\n",
       "      <th>sp500</th>\n",
       "      <th>USD_index</th>\n",
       "      <th>crude_oil</th>\n",
       "      <th>HYG</th>\n",
       "      <th>treasury_10yr</th>\n",
       "    </tr>\n",
       "    <tr>\n",
       "      <th>date</th>\n",
       "      <th></th>\n",
       "      <th></th>\n",
       "      <th></th>\n",
       "      <th></th>\n",
       "      <th></th>\n",
       "    </tr>\n",
       "  </thead>\n",
       "  <tbody>\n",
       "    <tr>\n",
       "      <th>2013-08-07</th>\n",
       "      <td>NaN</td>\n",
       "      <td>NaN</td>\n",
       "      <td>NaN</td>\n",
       "      <td>NaN</td>\n",
       "      <td>NaN</td>\n",
       "    </tr>\n",
       "    <tr>\n",
       "      <th>2013-08-08</th>\n",
       "      <td>0.003885</td>\n",
       "      <td>-0.003814</td>\n",
       "      <td>-0.003757</td>\n",
       "      <td>0.002189</td>\n",
       "      <td>-0.003617</td>\n",
       "    </tr>\n",
       "    <tr>\n",
       "      <th>2013-08-09</th>\n",
       "      <td>-0.003570</td>\n",
       "      <td>0.001840</td>\n",
       "      <td>0.005143</td>\n",
       "      <td>0.000109</td>\n",
       "      <td>-0.004171</td>\n",
       "    </tr>\n",
       "    <tr>\n",
       "      <th>2013-08-12</th>\n",
       "      <td>-0.001153</td>\n",
       "      <td>0.002552</td>\n",
       "      <td>0.002729</td>\n",
       "      <td>-0.000874</td>\n",
       "      <td>0.016367</td>\n",
       "    </tr>\n",
       "    <tr>\n",
       "      <th>2013-08-14</th>\n",
       "      <td>-0.002415</td>\n",
       "      <td>0.004648</td>\n",
       "      <td>0.003175</td>\n",
       "      <td>-0.001967</td>\n",
       "      <td>0.035488</td>\n",
       "    </tr>\n",
       "  </tbody>\n",
       "</table>\n",
       "</div>"
      ],
      "text/plain": [
       "               sp500  USD_index  crude_oil       HYG  treasury_10yr\n",
       "date                                                               \n",
       "2013-08-07       NaN        NaN        NaN       NaN            NaN\n",
       "2013-08-08  0.003885  -0.003814  -0.003757  0.002189      -0.003617\n",
       "2013-08-09 -0.003570   0.001840   0.005143  0.000109      -0.004171\n",
       "2013-08-12 -0.001153   0.002552   0.002729 -0.000874       0.016367\n",
       "2013-08-14 -0.002415   0.004648   0.003175 -0.001967       0.035488"
      ]
     },
     "execution_count": 12,
     "metadata": {},
     "output_type": "execute_result"
    }
   ],
   "source": [
    "df_ret.head()"
   ]
  },
  {
   "cell_type": "code",
   "execution_count": 13,
   "metadata": {},
   "outputs": [
    {
     "data": {
      "text/plain": [
       "<matplotlib.axes._subplots.AxesSubplot at 0x1fc428aec18>"
      ]
     },
     "execution_count": 13,
     "metadata": {},
     "output_type": "execute_result"
    },
    {
     "data": {
      "image/png": "[encoded data removed]",
      "text/plain": [
       "<Figure size 432x288 with 1 Axes>"
      ]
     },
     "metadata": {
      "needs_background": "light"
     },
     "output_type": "display_data"
    }
   ],
   "source": [
    "df_ret[['sp500', 'USD_index']].plot()"
   ]
  },
  {
   "cell_type": "code",
   "execution_count": 14,
   "metadata": {},
   "outputs": [
    {
     "data": {
      "text/plain": [
       "sp500            0.000321\n",
       "USD_index        0.000332\n",
       "crude_oil       -0.001140\n",
       "HYG             -0.000103\n",
       "treasury_10yr   -0.000091\n",
       "dtype: float64"
      ]
     },
     "execution_count": 14,
     "metadata": {},
     "output_type": "execute_result"
    }
   ],
   "source": [
    "df_ret.mean()"
   ]
  },
  {
   "cell_type": "code",
   "execution_count": 15,
   "metadata": {},
   "outputs": [
    {
     "data": {
      "text/plain": [
       "sp500            0.008147\n",
       "USD_index        0.004511\n",
       "crude_oil        0.017814\n",
       "HYG              0.003559\n",
       "treasury_10yr    0.021162\n",
       "dtype: float64"
      ]
     },
     "execution_count": 15,
     "metadata": {},
     "output_type": "execute_result"
    }
   ],
   "source": [
    "df_ret.std()"
   ]
  },
  {
   "cell_type": "code",
   "execution_count": 16,
   "metadata": {},
   "outputs": [
    {
     "data": {
      "text/plain": [
       "<matplotlib.axes._subplots.AxesSubplot at 0x1fc426e82e8>"
      ]
     },
     "execution_count": 16,
     "metadata": {},
     "output_type": "execute_result"
    },
    {
     "data": {
      "image/png": "[encoded data removed]",
      "text/plain": [
       "<Figure size 432x288 with 1 Axes>"
      ]
     },
     "metadata": {
      "needs_background": "light"
     },
     "output_type": "display_data"
    }
   ],
   "source": [
    "df.sp500.plot()"
   ]
  },
  {
   "cell_type": "markdown",
   "metadata": {},
   "source": [
    "# Mean-Variance Efficient Portfolios\n",
    "\n",
    "\n",
    "In this application, we replicate the Markowitz model of portfolio optimization. This model is a model of investor behavior. It models an investor you prefers a portfolio that has higher expected returns and lower variance, *ceteris paribus*. The result of this assumption is that investors (1) choose diversified portfolios and (2) that there exist on a \"mean-variance efficient frontier\" along which investors choose their portfolios. That is, there are some portfolios that consist of some combinations of assets that are strictly dominated by other combinations of assets. This model  formalizes the notion that an investor should not \"put all of his/her eggs in one basket\" as well as  the tradeoff between risk and return.\n",
    "\n",
    "(Note: There are other important lessons that we can learn from this model, but they are beyond the scope of this class. For one, you may search Google for the concept of the \"two-portfolio separation theorem.\" Also note that we are excluding any \"risk-free\" short-term assets from our analysis here. Also note that Markowitz won the Nobel prize in economics in 1990 for this analysis.)\n",
    "\n",
    "Suppose that $\\mu$ is a column vector of the means of each asset and suppose that $\\Sigma$ is the associated variance-covariance matrix. Now, suppose that we create a column vector of weights $w$ that tells us the fraction of our wealth that we invest in each asset. Then, the formulas in matrix notation for the mean and variance of the resulting portfolio are\n",
    "$$\n",
    "\\mu_p = \\mu' w\n",
    "$$\n",
    "and\n",
    "$$\n",
    "\\sigma_p^2 = w' \\Sigma w\n",
    "$$\n",
    "respectively.\n"
   ]
  },
  {
   "cell_type": "markdown",
   "metadata": {},
   "source": [
    "### Global Minimum Variance Portfolio\n",
    "\n",
    "We'll first start by finding a particular portfolio called the \"global minimum variance\" portfolio (assuming the absence of a risk-free asset--why?). "
   ]
  },
  {
   "cell_type": "markdown",
   "metadata": {},
   "source": [
    "**Discussion** \n",
    "\n",
    " * What is a risk-free asset? Why am I assuming that one doesn't exist?\n"
   ]
  },
  {
   "cell_type": "markdown",
   "metadata": {},
   "source": [
    "Consider a portfolio allocation vector, `w`, which sums to 1 and allocates a fraction of the portfolio to each of the 5 securities. For example\n",
    "\n",
    "    w = np.array([.2, .2, .2, .2, .2])\n",
    "    \n",
    "allocates 20% to each asset."
   ]
  },
  {
   "cell_type": "code",
   "execution_count": 17,
   "metadata": {},
   "outputs": [],
   "source": [
    "# You may find that this code is helpful for viewing\n",
    "# the arrays. Suppress will suppress scientific notation\n",
    "# and precision sets the number of digits to print to\n",
    "# the screen\n",
    "np.set_printoptions(precision=2, suppress=True)"
   ]
  },
  {
   "cell_type": "markdown",
   "metadata": {},
   "source": [
    " - (1) First, calculate the covariance matrix of the assets. Save it to a variable called `Sigma`. Be sure to set the option of the covariance function to `rowvar=False`, since each column in our matrix is a variable, not each row. Alternatively, you could transpose the matrix."
   ]
  },
  {
   "cell_type": "code",
   "execution_count": 18,
   "metadata": {},
   "outputs": [
    {
     "data": {
      "text/plain": [
       "array([0.81, 0.45, 1.78, 0.36, 2.11])"
      ]
     },
     "execution_count": 18,
     "metadata": {},
     "output_type": "execute_result"
    }
   ],
   "source": [
    "np.std(rets, axis=0)"
   ]
  },
  {
   "cell_type": "code",
   "execution_count": 19,
   "metadata": {},
   "outputs": [
    {
     "data": {
      "text/plain": [
       "array([[ 0.67,  0.04,  0.35,  0.19,  0.58],\n",
       "       [ 0.04,  0.2 , -0.11,  0.  ,  0.22],\n",
       "       [ 0.35, -0.11,  3.18,  0.2 ,  0.79],\n",
       "       [ 0.19,  0.  ,  0.2 ,  0.13,  0.06],\n",
       "       [ 0.58,  0.22,  0.79,  0.06,  4.46]])"
      ]
     },
     "execution_count": 19,
     "metadata": {},
     "output_type": "execute_result"
    }
   ],
   "source": [
    "Sigma = np.cov(rets, rowvar=False)\n",
    "Sigma"
   ]
  },
  {
   "cell_type": "code",
   "execution_count": 20,
   "metadata": {},
   "outputs": [
    {
     "data": {
      "text/plain": [
       "array([[ 0.67,  0.04,  0.35,  0.19,  0.58],\n",
       "       [ 0.04,  0.2 , -0.11,  0.  ,  0.22],\n",
       "       [ 0.35, -0.11,  3.18,  0.2 ,  0.79],\n",
       "       [ 0.19,  0.  ,  0.2 ,  0.13,  0.06],\n",
       "       [ 0.58,  0.22,  0.79,  0.06,  4.46]])"
      ]
     },
     "execution_count": 20,
     "metadata": {},
     "output_type": "execute_result"
    }
   ],
   "source": [
    "np.cov(rets.T)"
   ]
  },
  {
   "cell_type": "markdown",
   "metadata": {},
   "source": [
    " - (2)\n",
    "Write an in-line function (a `lambda` function) that calculates the return variance for the allocation using the formula\n",
    "$$\n",
    "w' \\Sigma w.\n",
    "$$\n",
    "Call the function `w`. That is, save the function to a variable called `w`.\n",
    "Try out your new function using the following portfolio weights:\n",
    "\n",
    "    w = np.array([1,0,0,0,0])\n",
    "    w = np.array([.2, .2, .2, .2, .2])\n",
    "    w = np.array([.4, 0, .2, .2, .2])"
   ]
  },
  {
   "cell_type": "code",
   "execution_count": 21,
   "metadata": {},
   "outputs": [],
   "source": [
    "f = lambda w: w.transpose() @ Sigma @ w"
   ]
  },
  {
   "cell_type": "code",
   "execution_count": 22,
   "metadata": {},
   "outputs": [
    {
     "data": {
      "text/plain": [
       "0.6652650184323119"
      ]
     },
     "execution_count": 22,
     "metadata": {},
     "output_type": "execute_result"
    }
   ],
   "source": [
    "w = np.array([1,0,0,0,0])\n",
    "f(w)"
   ]
  },
  {
   "cell_type": "code",
   "execution_count": 23,
   "metadata": {},
   "outputs": [
    {
     "data": {
      "text/plain": [
       "0.5313706492829182"
      ]
     },
     "execution_count": 23,
     "metadata": {},
     "output_type": "execute_result"
    }
   ],
   "source": [
    "w = np.array([.2, .2, .2, .2, .2])\n",
    "f(w)"
   ]
  },
  {
   "cell_type": "code",
   "execution_count": 24,
   "metadata": {},
   "outputs": [
    {
     "data": {
      "text/plain": [
       "0.6807163918909426"
      ]
     },
     "execution_count": 24,
     "metadata": {},
     "output_type": "execute_result"
    }
   ],
   "source": [
    "w = np.array([.4, 0, .2, .2, .2])\n",
    "f(w)"
   ]
  },
  {
   "cell_type": "markdown",
   "metadata": {},
   "source": [
    " - (3) Write a constraint function called `con`. This takes in the vector of portfolio weights `w` and returns the difference between 1 and the sum of the portfolio weights. The purpose is that if the weights sum to one, then the function returns a zero. The zero indicates that the contraint holds."
   ]
  },
  {
   "cell_type": "code",
   "execution_count": 25,
   "metadata": {},
   "outputs": [],
   "source": [
    "con = lambda w: np.sum(w) - 1"
   ]
  },
  {
   "cell_type": "markdown",
   "metadata": {},
   "source": [
    " - (4) Minimize this portfolio variance, subject to the constraint that portfolio weights add to 1. \n",
    " \n",
    "To do this, check out the available constrained optimizers listed in the Scipy documentation: https://docs.scipy.org/doc/scipy/reference/optimize.html\n",
    "\n",
    "Use sequential least squares: `scipy.optimize.fmin_slsqp`. Set the desired accuracy to `acc=1e-09` and set the option `iprint=2` so that the optimizer will display information at each iteration of the algorithm. You will need to set an initial guess for the optimizer to start from. Set the initial guess to\n",
    "\n",
    "    w0 = np.array([.2, .2, .2, .2, .2])\n",
    "    \n",
    "Save the final results into a new variable called `wstar`."
   ]
  },
  {
   "cell_type": "code",
   "execution_count": 26,
   "metadata": {},
   "outputs": [
    {
     "name": "stdout",
     "output_type": "stream",
     "text": [
      "  NIT    FC           OBJFUN            GNORM\n",
      "    1     7     5.313706E-01     3.113951E+00\n",
      "    2    15     1.447132E-01     7.891362E-01\n",
      "    3    23     1.183773E-01     5.918720E-01\n",
      "    4    30     8.310490E-02     3.783806E-01\n",
      "    5    37     7.926658E-02     3.658035E-01\n",
      "    6    44     7.267062E-02     3.249795E-01\n",
      "Optimization terminated successfully.    (Exit mode 0)\n",
      "            Current function value: 0.0726706152704004\n",
      "            Iterations: 6\n",
      "            Function evaluations: 44\n",
      "            Gradient evaluations: 6\n"
     ]
    },
    {
     "data": {
      "text/plain": [
       "array([-0.13,  0.37,  0.  ,  0.76,  0.01])"
      ]
     },
     "execution_count": 26,
     "metadata": {},
     "output_type": "execute_result"
    }
   ],
   "source": [
    "w0 = np.array([.2, .2, .2, .2, .2])\n",
    "wstar = scipy.optimize.fmin_slsqp(f, w0, f_eqcons=con, acc=1e-09, iprint=2)\n",
    "wstar"
   ]
  },
  {
   "cell_type": "markdown",
   "metadata": {},
   "source": [
    " - (5) Test your newly optimized function. Evaluate the covariance of the portfolio at `wstar` and \n",
    "    \n",
    "    `wstar + np.array([0.1, 0, 0, 0, -0.1])`\n",
    "\n",
    "and\n",
    "\n",
    "    wstar - np.array([0.1, 0, 0, 0, -0.1])\n",
    "    \n",
    "The perturbation will ensure that the constraint still holds. Does `wstar` appear to be an minimum?\n",
    "\n",
    "**Discussion:**\n",
    "\n",
    " * What do I mean when I say that the \"perturbation will ensure that the constraint still holds\"? \n",
    " * Why is it important for this constraint to hold?"
   ]
  },
  {
   "cell_type": "code",
   "execution_count": 27,
   "metadata": {},
   "outputs": [
    {
     "data": {
      "text/plain": [
       "0.0726706152704004"
      ]
     },
     "execution_count": 27,
     "metadata": {},
     "output_type": "execute_result"
    }
   ],
   "source": [
    "f(wstar)"
   ]
  },
  {
   "cell_type": "code",
   "execution_count": 28,
   "metadata": {},
   "outputs": [
    {
     "data": {
      "text/plain": [
       "0.11231138935742016"
      ]
     },
     "execution_count": 28,
     "metadata": {},
     "output_type": "execute_result"
    }
   ],
   "source": [
    "f(wstar + np.array([0.1, 0, 0, 0, -0.1]))"
   ]
  },
  {
   "cell_type": "code",
   "execution_count": 29,
   "metadata": {},
   "outputs": [
    {
     "data": {
      "text/plain": [
       "0.11231388872759333"
      ]
     },
     "execution_count": 29,
     "metadata": {},
     "output_type": "execute_result"
    }
   ],
   "source": [
    "f(wstar - np.array([0.1, 0, 0, 0, -0.1]))"
   ]
  },
  {
   "cell_type": "markdown",
   "metadata": {},
   "source": [
    "### Mean-Variance Efficient Portfolios\n",
    "\n",
    "We now consider the case of constructing a portfolio that has minimum variance among all possible portfolios that have a \"target\" expected return. To do this, let's complete the following steps.\n",
    "\n",
    " - (1) Compute the means of the asset returns and the variance-covariance matrix. Save the means as the numpy array `mu`. Save the variance-covariance matrix as the numpy array `Sigma`. "
   ]
  },
  {
   "cell_type": "code",
   "execution_count": 30,
   "metadata": {},
   "outputs": [
    {
     "data": {
      "text/plain": [
       "array([[ 0.67,  0.04,  0.35,  0.19,  0.58],\n",
       "       [ 0.04,  0.2 , -0.11,  0.  ,  0.22],\n",
       "       [ 0.35, -0.11,  3.18,  0.2 ,  0.79],\n",
       "       [ 0.19,  0.  ,  0.2 ,  0.13,  0.06],\n",
       "       [ 0.58,  0.22,  0.79,  0.06,  4.46]])"
      ]
     },
     "execution_count": 30,
     "metadata": {},
     "output_type": "execute_result"
    }
   ],
   "source": [
    "# did this above\n",
    "Sigma"
   ]
  },
  {
   "cell_type": "code",
   "execution_count": 31,
   "metadata": {},
   "outputs": [
    {
     "data": {
      "text/plain": [
       "array([ 0.03,  0.03, -0.13, -0.01, -0.03])"
      ]
     },
     "execution_count": 31,
     "metadata": {},
     "output_type": "execute_result"
    }
   ],
   "source": [
    "mu = np.mean(rets, axis=0)\n",
    "mu"
   ]
  },
  {
   "cell_type": "markdown",
   "metadata": {},
   "source": [
    " - (2) Solve for the optimal portfolio that solves the following contrained minimization problem given a target expected portfolio return of $\\mu_p = 0.01$.\n",
    " \n",
    "\\begin{align*}\n",
    "\\min_{w} \\quad & w' \\Sigma w \\\\\n",
    "\\text{s.t.} \\quad & w' \\mu = \\mu_p \\\\\n",
    "& w' \\mathbb 1 = 1 \n",
    "\\end{align*}\n",
    "where $\\mathbb 1$ is a conforming vector of ones. For an initial guess for the optimizer, choose a portfolio of equal weights to each asset (a $5 \\times 1$ vector of the value $0.2$).\n",
    "\n",
    "Use `scipy.optimize.fmin_slsqp`. In order to incorporate two constraints, carefully read the documentation regarding the keyword argument `eqcons`.\n",
    "\n",
    "Save the optimal set of portfolio weights as `wstar`. Calculate the variance of this optimal portfolio. Verify that the sum of the weights is numerically close to 1."
   ]
  },
  {
   "cell_type": "code",
   "execution_count": 32,
   "metadata": {},
   "outputs": [
    {
     "name": "stdout",
     "output_type": "stream",
     "text": [
      "  NIT    FC           OBJFUN            GNORM\n",
      "    1     7     5.313706E-01     3.113951E+00\n",
      "    2    15     2.650969E-01     1.615485E+00\n",
      "    3    22     8.549178E-02     4.278800E-01\n",
      "    4    29     8.005873E-02     3.149590E-01\n",
      "    5    36     7.993000E-02     3.148438E-01\n",
      "    6    43     7.991447E-02     3.149401E-01\n",
      "    7    50     7.990880E-02     3.151721E-01\n",
      "Optimization terminated successfully.    (Exit mode 0)\n",
      "            Current function value: 0.07990879699726343\n",
      "            Iterations: 7\n",
      "            Function evaluations: 50\n",
      "            Gradient evaluations: 7\n"
     ]
    },
    {
     "data": {
      "text/plain": [
       "array([-0.04,  0.47, -0.02,  0.61, -0.01])"
      ]
     },
     "execution_count": 32,
     "metadata": {},
     "output_type": "execute_result"
    }
   ],
   "source": [
    "var_func = lambda w: w.transpose() @ Sigma @ w\n",
    "mu_target = 0.01\n",
    "con_mean = lambda w: w @ mu - mu_target\n",
    "con_port = lambda w: w @ np.ones((5,1)) - 1\n",
    "eqcons = [con_mean, con_port]\n",
    "\n",
    "w0 = np.array([.2, .2, .2, .2, .2])\n",
    "wstar = scipy.optimize.fmin_slsqp(var_func, w0, eqcons=eqcons, iprint=2)\n",
    "wstar"
   ]
  },
  {
   "cell_type": "code",
   "execution_count": 33,
   "metadata": {},
   "outputs": [
    {
     "data": {
      "text/plain": [
       "1.0"
      ]
     },
     "execution_count": 33,
     "metadata": {},
     "output_type": "execute_result"
    }
   ],
   "source": [
    "sum(wstar)"
   ]
  },
  {
   "cell_type": "code",
   "execution_count": 34,
   "metadata": {},
   "outputs": [
    {
     "data": {
      "text/plain": [
       "0.07990879699726343"
      ]
     },
     "execution_count": 34,
     "metadata": {},
     "output_type": "execute_result"
    }
   ],
   "source": [
    "var_func(wstar)"
   ]
  },
  {
   "cell_type": "markdown",
   "metadata": {},
   "source": [
    " - (3) Use `numpy.linspace` to create a vector of `N` values equally spaced from -0.01 to 2. Call this vector `mean_grid`. For each value in this mean grid with `N=100`, solve the above maximization problem with the value of the mean grid as the target expected portfolio return $\\mu_p$. For each solution, record the value of the objective. That is, record the minimal portfolio return variance needed to acheive the desired expected portfolio return. Plot the two vectors that result on a plot with the x-axis labelled 'Portfolio Return Variance', the y-axis labelled 'Mean Portfolio Return', and the title of plot as 'Mean-Variance Efficient Frontier'."
   ]
  },
  {
   "cell_type": "code",
   "execution_count": 35,
   "metadata": {},
   "outputs": [],
   "source": [
    "N = 100\n",
    "mean_grid = np.linspace(-0.01, 2, N)\n",
    "var_grid = np.zeros(N)"
   ]
  },
  {
   "cell_type": "code",
   "execution_count": 36,
   "metadata": {},
   "outputs": [],
   "source": [
    "for i in range(N):\n",
    "    mu_target = mean_grid[i]\n",
    "    var_func = lambda w: w.transpose() @ Sigma @ w\n",
    "    con_mean = lambda w: w @ mu - mu_target\n",
    "    con_port = lambda w: w @ np.ones((5,1)) - 1\n",
    "    eqcons = [con_mean, con_port]\n",
    "    w0 = np.array([.2, .2, .2, .2, .2])\n",
    "    wstar = scipy.optimize.fmin_slsqp(var_func, w0, eqcons=eqcons, acc=1e-09, \n",
    "                                      iprint=0)\n",
    "    var_grid[i] = var_func(wstar)"
   ]
  },
  {
   "cell_type": "code",
   "execution_count": 37,
   "metadata": {},
   "outputs": [
    {
     "data": {
      "text/plain": [
       "Text(0.5, 1.0, 'Mean-Variance Efficient Frontier')"
      ]
     },
     "execution_count": 37,
     "metadata": {},
     "output_type": "execute_result"
    },
    {
     "data": {
      "image/png": "[encoded data removed]",
      "text/plain": [
       "<Figure size 432x288 with 1 Axes>"
      ]
     },
     "metadata": {
      "needs_background": "light"
     },
     "output_type": "display_data"
    }
   ],
   "source": [
    "plt.plot(var_grid, mean_grid)\n",
    "plt.xlabel('Portfolio Return Variance')\n",
    "plt.ylabel('Mean Portfolio Return')\n",
    "plt.title('Mean-Variance Efficient Frontier')"
   ]
  },
  {
   "cell_type": "markdown",
   "metadata": {},
   "source": [
    "##  Bounding the Portfolio Weights \n",
    "\n",
    "Suppose we take the problem from before and add a new set of constraints. Let's add bounds on the portfolio weights such that no weight may be less than zero. We can interpret this as a constraint that disallows \"short-selling.\" In particular, solve the problem\n",
    "\n",
    "\\begin{align*}\n",
    "\\min_{w} \\quad & w' \\Sigma w \\\\\n",
    "\\text{s.t.} \\quad & w' \\mu = \\mu_p \\\\\n",
    "& w' \\mathbb 1 = 1 \\\\\n",
    "& w_i \\geq 0 \\quad \\text{ for all } i=1,..,k.\n",
    "\\end{align*}\n",
    "\n",
    "Use `scipy.optimize.fmin_slsqp` again. Check the documentation for information on how to include \"bound constraints.\" https://docs.scipy.org/doc/scipy/reference/generated/scipy.optimize.fmin_slsqp.html"
   ]
  },
  {
   "cell_type": "code",
   "execution_count": 38,
   "metadata": {},
   "outputs": [
    {
     "data": {
      "image/png": "[encoded data removed]",
      "text/plain": [
       "<Figure size 432x288 with 1 Axes>"
      ]
     },
     "metadata": {
      "needs_background": "light"
     },
     "output_type": "display_data"
    }
   ],
   "source": [
    "# SOLUTION\n",
    "mu = np.mean(rets, axis=0)\n",
    "Sigma = np.cov(rets, rowvar=False)\n",
    "\n",
    "N = 100\n",
    "mean_grid = np.linspace(0.0, .02, N)\n",
    "var_grid = np.zeros(N)\n",
    "var_grid_no_short = np.zeros(N)\n",
    "\n",
    "no_short_bounds = [(0,np.inf), (0,np.inf), (0,np.inf), (0,np.inf), (0,np.inf)]\n",
    "\n",
    "for i in range(N):\n",
    "    mu_target = mean_grid[i]\n",
    "    var_func = lambda w: w.transpose() @ Sigma @ w\n",
    "    con_mean = lambda w: w @ mu - mu_target\n",
    "    con_port = lambda w: w @ np.ones((5,1)) - 1\n",
    "    eqcons = [con_mean, con_port]\n",
    "    w0 = np.array([.2, .2, .2, .2, .2])\n",
    "    wstar = scipy.optimize.fmin_slsqp(var_func, w0, eqcons=eqcons, acc=1e-09, \n",
    "                                      iprint=0)\n",
    "    var_grid[i] = var_func(wstar)\n",
    "    wstar = scipy.optimize.fmin_slsqp(var_func, w0, \n",
    "                                      eqcons=eqcons,\n",
    "                                      bounds=no_short_bounds,\n",
    "                                      acc=1e-09, \n",
    "                                      iprint=0)\n",
    "    var_grid_no_short[i] = var_func(wstar)\n",
    "\n",
    "plt.plot(var_grid, mean_grid, label='Unconstrained')\n",
    "plt.plot(var_grid_no_short, mean_grid, label='No-Short Selling')\n",
    "plt.xlabel('Portfolio Return Variance')\n",
    "plt.ylabel('Mean Portfolio Return')\n",
    "plt.title('Mean-Variance Efficient Frontier')\n",
    "plt.legend();"
   ]
  }
 ],
 "metadata": {
  "kernelspec": {
   "display_name": "Python 3",
   "language": "python",
   "name": "python3"
  },
  "language_info": {
   "codemirror_mode": {
    "name": "ipython",
    "version": 3
   },
   "file_extension": ".py",
   "mimetype": "text/x-python",
   "name": "python",
   "nbconvert_exporter": "python",
   "pygments_lexer": "ipython3",
   "version": "3.7.3"
  },
  "varInspector": {
   "cols": {
    "lenName": 16,
    "lenType": 16,
    "lenVar": 40
   },
   "kernels_config": {
    "python": {
     "delete_cmd_postfix": "",
     "delete_cmd_prefix": "del ",
     "library": "var_list.py",
     "varRefreshCmd": "print(var_dic_list())"
    },
    "r": {
     "delete_cmd_postfix": ") ",
     "delete_cmd_prefix": "rm(",
     "library": "var_list.r",
     "varRefreshCmd": "cat(var_dic_list()) "
    }
   },
   "types_to_exclude": [
    "module",
    "function",
    "builtin_function_or_method",
    "instance",
    "_Feature"
   ],
   "window_display": false
  }
 },
 "nbformat": 4,
 "nbformat_minor": 2
}
