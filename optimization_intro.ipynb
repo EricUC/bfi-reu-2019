{
 "cells": [
  {
   "cell_type": "code",
   "execution_count": 1,
   "metadata": {},
   "outputs": [],
   "source": [
    "import numpy as np\n",
    "import pandas as pd\n",
    "import scipy\n",
    "import scipy.integrate\n",
    "import scipy.stats\n",
    "from scipy import misc\n",
    "from scipy.optimize import minimize\n",
    "from matplotlib import pyplot as plt"
   ]
  },
  {
   "cell_type": "markdown",
   "metadata": {},
   "source": [
    "### Brief Intro to the Mechanics of Numerical Optimization\n",
    "\n",
    "Newton's Method for Root Finding\n",
    "\n",
    "<img src=\"newtons_method_zeros.gif\">\n",
    "\n",
    "Newton's Method vs Gradient Descent for Minimization (Maximization)\n",
    "\n",
    "<img src=\"newtons_method_gradient_descent.gif\">"
   ]
  },
  {
   "cell_type": "code",
   "execution_count": 2,
   "metadata": {},
   "outputs": [],
   "source": [
    "from scipy.optimize import minimize\n",
    "data = np.array(\n",
    "  [[0.0000, 5.8955], \n",
    "   [0.1000, 3.5639],\n",
    "   [0.2000, 2.5173],\n",
    "   [0.3000, 1.9790],\n",
    "   [0.4000, 1.8990],\n",
    "   [0.5000, 1.3938],\n",
    "   [0.6000, 1.1359],\n",
    "   [0.7000, 1.0096],\n",
    "   [0.8000, 1.0343],\n",
    "   [0.9000, 0.8435],\n",
    "   [1.0000, 0.6856],\n",
    "   [1.1000, 0.6100],\n",
    "   [1.2000, 0.5392],\n",
    "   [1.3000, 0.3946],\n",
    "   [1.4000, 0.3903],\n",
    "   [1.5000, 0.5474],\n",
    "   [1.6000, 0.3459],\n",
    "   [1.7000, 0.1370],\n",
    "   [1.8000, 0.2211],\n",
    "   [1.9000, 0.1704],\n",
    "   [2.0000, 0.2636]])\n",
    "\n",
    "def plot_against_data(x):\n",
    "    tgrid = data[:,0]\n",
    "    ydata = data[:,1]\n",
    "    yfunc = lambda t: x[0] * np.exp(-x[2]* t) + x[1] * np.exp(-x[3] * t)\n",
    "    y = yfunc(tgrid)\n",
    "    plt.plot(tgrid, ydata, '.')\n",
    "    plt.plot(tgrid, y)\n",
    "    \n",
    "x_initial = np.array([1, 1, 1, 0])"
   ]
  },
  {
   "cell_type": "markdown",
   "metadata": {},
   "source": [
    " - (1): Use the given plotting function to plot the data and the curve for the given initial guess of the parameters, `x_initial`."
   ]
  },
  {
   "cell_type": "code",
   "execution_count": 3,
   "metadata": {},
   "outputs": [
    {
     "data": {
      "image/png": "[encoded data removed]",
      "text/plain": [
       "<Figure size 432x288 with 1 Axes>"
      ]
     },
     "metadata": {
      "needs_background": "light"
     },
     "output_type": "display_data"
    }
   ],
   "source": [
    "plot_against_data(x_initial)"
   ]
  },
  {
   "cell_type": "code",
   "execution_count": 4,
   "metadata": {},
   "outputs": [],
   "source": [
    "import ipywidgets\n",
    "\n",
    "def interactive_plot(x0=1.,x1=2.,x2=1.,x3=0.):\n",
    "    plot_against_data(np.array([x0,x1,x2,x3]))"
   ]
  },
  {
   "cell_type": "code",
   "execution_count": 5,
   "metadata": {},
   "outputs": [
    {
     "data": {
      "application/vnd.jupyter.widget-view+json": {
       "model_id": "882c82f8bcef42f7be839423b756db1b",
       "version_major": 2,
       "version_minor": 0
      },
      "text/plain": [
       "interactive(children=(FloatSlider(value=1.0, description='x0', max=3.0, min=-1.0), FloatSlider(value=2.0, desc…"
      ]
     },
     "metadata": {},
     "output_type": "display_data"
    },
    {
     "data": {
      "text/plain": [
       "<function __main__.interactive_plot(x0=1.0, x1=2.0, x2=1.0, x3=0.0)>"
      ]
     },
     "execution_count": 5,
     "metadata": {},
     "output_type": "execute_result"
    }
   ],
   "source": [
    "ipywidgets.interact(interactive_plot)"
   ]
  },
  {
   "cell_type": "markdown",
   "metadata": {},
   "source": [
    " - (2) Write a function called `sum_squares` that takes in a vector of model paraters (e.g., `x_initial`) and returns the sum of squares that results from the difference of the data and the curve defined by `x_initial`. What is the sum of squares that results from the given `x_initial`?"
   ]
  },
  {
   "cell_type": "code",
   "execution_count": 6,
   "metadata": {},
   "outputs": [],
   "source": [
    "def sum_squares(x):\n",
    "    tgrid = data[:,0]\n",
    "    ydata = data[:,1]\n",
    "    yfunc = lambda t: x[0] * np.exp(-x[2]* t) + x[1] * np.exp(-x[3] * t)\n",
    "    y = yfunc(tgrid)\n",
    "    s = np.sum((y - ydata)**2)\n",
    "    return s"
   ]
  },
  {
   "cell_type": "code",
   "execution_count": 7,
   "metadata": {},
   "outputs": [
    {
     "data": {
      "text/plain": [
       "27.432326688864467"
      ]
     },
     "execution_count": 7,
     "metadata": {},
     "output_type": "execute_result"
    }
   ],
   "source": [
    "sum_squares(x_initial)"
   ]
  },
  {
   "cell_type": "markdown",
   "metadata": {},
   "source": [
    " - (3) Use `scipy.optimize.minimize` to minimize the sum of squares, using the function that you wrote previously. Save the optimal parameters to the variable `xstar`."
   ]
  },
  {
   "cell_type": "code",
   "execution_count": 8,
   "metadata": {},
   "outputs": [
    {
     "data": {
      "text/plain": [
       "array([ 3.00689941,  2.88903268, 10.58641832,  1.40031742])"
      ]
     },
     "execution_count": 8,
     "metadata": {},
     "output_type": "execute_result"
    }
   ],
   "source": [
    "opt = minimize(sum_squares, x_initial)\n",
    "xstar = opt.x\n",
    "xstar"
   ]
  },
  {
   "cell_type": "markdown",
   "metadata": {},
   "source": [
    " - (4) Use the `plot_against_data` function that was given to plot the optimal curve, defined by `xstar`, against the data."
   ]
  },
  {
   "cell_type": "code",
   "execution_count": 9,
   "metadata": {},
   "outputs": [
    {
     "data": {
      "image/png": "[encoded data removed]",
      "text/plain": [
       "<Figure size 432x288 with 1 Axes>"
      ]
     },
     "metadata": {
      "needs_background": "light"
     },
     "output_type": "display_data"
    }
   ],
   "source": [
    "plot_against_data(xstar)"
   ]
  },
  {
   "cell_type": "code",
   "execution_count": null,
   "metadata": {},
   "outputs": [],
   "source": []
  }
 ],
 "metadata": {
  "kernelspec": {
   "display_name": "Python 3",
   "language": "python",
   "name": "python3"
  },
  "language_info": {
   "codemirror_mode": {
    "name": "ipython",
    "version": 3
   },
   "file_extension": ".py",
   "mimetype": "text/x-python",
   "name": "python",
   "nbconvert_exporter": "python",
   "pygments_lexer": "ipython3",
   "version": "3.7.3"
  }
 },
 "nbformat": 4,
 "nbformat_minor": 2
}
