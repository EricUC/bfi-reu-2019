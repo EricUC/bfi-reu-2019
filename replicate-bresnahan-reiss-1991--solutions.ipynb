{
 "cells": [
  {
   "cell_type": "markdown",
   "metadata": {},
   "source": [
    "# Replicate Bresnahan and Reiss 1991\n",
    "\n",
    "In this notebook, we will be replicating a classic paper from Industrial Organization: Bresnahan and Reiss (1991) \"Entry and Competition in Concentrated Markets.\" The paper can be downloaded here: http://people.hss.caltech.edu/~mshum/gradio/papers/bresreiss_jpe.pdf\n",
    "\n",
    "The data is available on the class GitHub page.\n",
    "\n",
    "## Introduction\n",
    "\n",
    "The abstract of the paper is this:\n",
    "\n",
    "> This paper proposes an empirical framework for measuring the effects of entry in concentrated markets. Building on models of entry in atomistically competitive markets, we show how the number of producers in an oligopolistic market varies with changes in demand and market competition. These analytical results structure our empirical analysis of competition in five retail and professional industries. Using data on geographically isolated monopolies, duopolies, and oligopolies, we study the relationship between the number of firms in a market, market size, and competition. Our empirical results suggest that competitive conduct changes quickly as the number of incumbents increases. In markets with five or fewer incumbents, almost all variation in competitive conduct occurs with the entry of the second or third firm. Surprisingly, once the market has between three and five firms, the next entrant has little effect on competitive conduct.\n"
   ]
  },
  {
   "cell_type": "markdown",
   "metadata": {},
   "source": [
    "## Description of the Data\n",
    "\n",
    "For a description of the data, see Table 3 of the paper and its accompanying description.\n",
    "\n",
    "Each observation is a \"market.\" These are combinations of towns and industries, e.g. the tire dealer market in town \"A\". From p. 985,\n",
    "\n",
    "> Our sample contains 202 isolated local markets. A typical market\n",
    "in our sample is a county seat in the western United States. These county seats are separated from other towns in the county. Because most of the local population resides in or near the central town, its population provides a reasonable first approximation to $S(Y)$. \n",
    ">\n",
    "> ...\n",
    ">\n",
    "> We selected our sample of markets and industries using criteria developed in our earlier work (see Bresnahan and Reiss 1988, 1990). Briefly, we located towns or small cities in the continental United States that were at least 20 miles from the nearest town of 1,000 people or more. We elimi- nated towns that were near large metropolitan areas or were part of a cluster of towns. Our specific criteria exclude, for example, towns within 100 miles of a city of 100,000. We believe, a priori, that these selection criteria ensure that we can identify all relevant competitors.\n",
    ">\n",
    "> ...\n",
    "> \n",
    "> We limited our study to industries or occupations in which we could identify all sellers of a narrowly defined product or service. We did not consider grocery and clothing stores, for example, because they sell a range of products.\n",
    "\n",
    "The data included on the GitHub repo has 202 rows, including the following variables:\n",
    "\n",
    "  - `ID`: The unique ID associated with the represented market.\n",
    "  - `TIRE`: The number of incumbent \"tire dealer\" firms in the market\n",
    "  - `TPOP`: Town population.\n",
    "  - `NGRW`: Negative TPOP growth. This represents the negative growth in town population from 1970 to 1980. \n",
    "  - `PGRW`: Positive TPOP growth. Similar to `NGRW`. These growth terms capture entrants' asymmetric expectations about future market growth as well as lags in responses to past growth.\n",
    "  - `OCTY`: Commuters out of the city. There are commuters out of the county. It represents the Census Bureau's count of county residents who commute to work outside the county. (A negative calue of the coefficient $\\lambda_4$ suggest that commuters purchase good in nearby markets.)\n",
    "  - `OPOP`: Nearby Population. This includes population within 10 miles of the town. (This would increase demand.)\n",
    "  - `LANDV`: Value per acre of farm-land and buildings  (\\$1,000s)\n",
    "  - `ELD`: 65 years and older divided by the county population\n",
    "  - `FFRAC`: Fraction of land in farms\n",
    "  - `PINC`: Per capital income (\\$1,000's)\n",
    "  - `LNHDD`: Log of heating degree days\n",
    "\n",
    "Note: You can find additional variables used in the paper and their descriptions, along with summary statistics, in Table 2 on p. 991."
   ]
  },
  {
   "cell_type": "code",
   "execution_count": 5,
   "metadata": {},
   "outputs": [],
   "source": [
    "import pandas as pd\n",
    "import numpy as np\n",
    "from matplotlib import pyplot as plt\n",
    "%matplotlib inline\n",
    "# import seaborn as sns\n",
    "import scipy.stats\n",
    "import scipy.optimize\n",
    "# sns.set()"
   ]
  },
  {
   "cell_type": "code",
   "execution_count": 6,
   "metadata": {},
   "outputs": [],
   "source": [
    "pd.set_option('precision', 2)\n",
    "pd.set_option('display.float_format', lambda x: '%.2f' % x)"
   ]
  },
  {
   "cell_type": "code",
   "execution_count": 7,
   "metadata": {},
   "outputs": [],
   "source": [
    "filename = 'https://raw.githubusercontent.com/jmbejara/bfi-reu-2019/master/BresnahanAndReiss1991_DATA.csv'\n",
    "df = pd.read_csv(filename)"
   ]
  },
  {
   "cell_type": "code",
   "execution_count": 8,
   "metadata": {},
   "outputs": [
    {
     "data": {
      "text/html": [
       "<div>\n",
       "<style scoped>\n",
       "    .dataframe tbody tr th:only-of-type {\n",
       "        vertical-align: middle;\n",
       "    }\n",
       "\n",
       "    .dataframe tbody tr th {\n",
       "        vertical-align: top;\n",
       "    }\n",
       "\n",
       "    .dataframe thead th {\n",
       "        text-align: right;\n",
       "    }\n",
       "</style>\n",
       "<table border=\"1\" class=\"dataframe\">\n",
       "  <thead>\n",
       "    <tr style=\"text-align: right;\">\n",
       "      <th></th>\n",
       "      <th>ID</th>\n",
       "      <th>TIRE</th>\n",
       "      <th>TPOP</th>\n",
       "      <th>NGRW</th>\n",
       "      <th>PGRW</th>\n",
       "      <th>OCTY</th>\n",
       "      <th>OPOP</th>\n",
       "      <th>LANDV</th>\n",
       "      <th>ELD</th>\n",
       "      <th>FFRAC</th>\n",
       "      <th>PINC</th>\n",
       "      <th>LNHDD</th>\n",
       "    </tr>\n",
       "  </thead>\n",
       "  <tbody>\n",
       "    <tr>\n",
       "      <th>0</th>\n",
       "      <td>40013</td>\n",
       "      <td>2</td>\n",
       "      <td>3.54</td>\n",
       "      <td>0.00</td>\n",
       "      <td>0.84</td>\n",
       "      <td>8.39</td>\n",
       "      <td>5.84</td>\n",
       "      <td>1.18</td>\n",
       "      <td>0.12</td>\n",
       "      <td>0.24</td>\n",
       "      <td>7.72</td>\n",
       "      <td>7.27</td>\n",
       "    </tr>\n",
       "    <tr>\n",
       "      <th>1</th>\n",
       "      <td>40015</td>\n",
       "      <td>11</td>\n",
       "      <td>9.26</td>\n",
       "      <td>0.00</td>\n",
       "      <td>1.95</td>\n",
       "      <td>2.16</td>\n",
       "      <td>0.59</td>\n",
       "      <td>0.09</td>\n",
       "      <td>0.15</td>\n",
       "      <td>0.29</td>\n",
       "      <td>6.67</td>\n",
       "      <td>7.27</td>\n",
       "    </tr>\n",
       "    <tr>\n",
       "      <th>2</th>\n",
       "      <td>40016</td>\n",
       "      <td>10</td>\n",
       "      <td>15.74</td>\n",
       "      <td>0.00</td>\n",
       "      <td>1.30</td>\n",
       "      <td>2.16</td>\n",
       "      <td>0.59</td>\n",
       "      <td>0.09</td>\n",
       "      <td>0.15</td>\n",
       "      <td>0.29</td>\n",
       "      <td>6.67</td>\n",
       "      <td>7.27</td>\n",
       "    </tr>\n",
       "    <tr>\n",
       "      <th>3</th>\n",
       "      <td>40017</td>\n",
       "      <td>7</td>\n",
       "      <td>7.92</td>\n",
       "      <td>-0.14</td>\n",
       "      <td>0.00</td>\n",
       "      <td>1.43</td>\n",
       "      <td>1.36</td>\n",
       "      <td>0.11</td>\n",
       "      <td>0.06</td>\n",
       "      <td>1.16</td>\n",
       "      <td>4.49</td>\n",
       "      <td>7.38</td>\n",
       "    </tr>\n",
       "    <tr>\n",
       "      <th>4</th>\n",
       "      <td>40018</td>\n",
       "      <td>5</td>\n",
       "      <td>5.28</td>\n",
       "      <td>0.00</td>\n",
       "      <td>0.53</td>\n",
       "      <td>1.43</td>\n",
       "      <td>1.36</td>\n",
       "      <td>0.11</td>\n",
       "      <td>0.06</td>\n",
       "      <td>1.16</td>\n",
       "      <td>4.49</td>\n",
       "      <td>7.38</td>\n",
       "    </tr>\n",
       "  </tbody>\n",
       "</table>\n",
       "</div>"
      ],
      "text/plain": [
       "      ID  TIRE  TPOP  NGRW  PGRW  OCTY  OPOP  LANDV  ELD  FFRAC  PINC  LNHDD\n",
       "0  40013     2  3.54  0.00  0.84  8.39  5.84   1.18 0.12   0.24  7.72   7.27\n",
       "1  40015    11  9.26  0.00  1.95  2.16  0.59   0.09 0.15   0.29  6.67   7.27\n",
       "2  40016    10 15.74  0.00  1.30  2.16  0.59   0.09 0.15   0.29  6.67   7.27\n",
       "3  40017     7  7.92 -0.14  0.00  1.43  1.36   0.11 0.06   1.16  4.49   7.38\n",
       "4  40018     5  5.28  0.00  0.53  1.43  1.36   0.11 0.06   1.16  4.49   7.38"
      ]
     },
     "execution_count": 8,
     "metadata": {},
     "output_type": "execute_result"
    }
   ],
   "source": [
    "df.head()"
   ]
  },
  {
   "cell_type": "code",
   "execution_count": 5,
   "metadata": {},
   "outputs": [
    {
     "data": {
      "text/plain": [
       "ID         int64\n",
       "TIRE       int64\n",
       "TPOP     float64\n",
       "NGRW     float64\n",
       "PGRW     float64\n",
       "OCTY     float64\n",
       "OPOP     float64\n",
       "LANDV    float64\n",
       "ELD      float64\n",
       "FFRAC    float64\n",
       "PINC     float64\n",
       "LNHDD    float64\n",
       "dtype: object"
      ]
     },
     "execution_count": 5,
     "metadata": {},
     "output_type": "execute_result"
    }
   ],
   "source": [
    "df.dtypes"
   ]
  },
  {
   "cell_type": "markdown",
   "metadata": {},
   "source": [
    "**Figure 2**"
   ]
  },
  {
   "cell_type": "code",
   "execution_count": 6,
   "metadata": {},
   "outputs": [
    {
     "data": {
      "image/png": "[encoded data removed]",
      "text/plain": [
       "<Figure size 432x288 with 1 Axes>"
      ]
     },
     "metadata": {
      "needs_background": "light"
     },
     "output_type": "display_data"
    }
   ],
   "source": [
    "a = pd.cut(df.TPOP, np.r_[np.linspace(0,7.5, 16), [np.inf]])\n",
    "a = a.value_counts().sort_index()\n",
    "a.plot.bar(color='steelblue', alpha=.8)\n",
    "plt.ylabel('Number of Towns')\n",
    "plt.xlabel(\"Town Population Range (000's)\")\n",
    "plt.title('Fig. 2. --- Number of towns by town population');"
   ]
  },
  {
   "cell_type": "markdown",
   "metadata": {},
   "source": [
    "**Table 2**\n",
    "\n",
    "Market counts by industry and number of incumbents (shown for tire dealers only)"
   ]
  },
  {
   "cell_type": "code",
   "execution_count": 7,
   "metadata": {},
   "outputs": [
    {
     "data": {
      "text/plain": [
       "      [-inf, 1.0)  [1.0, 2.0)  [2.0, 3.0)  [3.0, 4.0)  [4.0, 5.0)  [5.0, 6.0)  \\\n",
       "TIRE           45          39          39          24          13          15   \n",
       "\n",
       "      [6.0, 7.0)  [7.0, inf)  \n",
       "TIRE           6          21  "
      ]
     },
     "execution_count": 7,
     "metadata": {},
     "output_type": "execute_result"
    }
   ],
   "source": [
    "bins = [-np.inf, *range(1,8), np.inf]\n",
    "tire_bins = pd.cut(df.TIRE, bins, right=False)\n",
    "counts = tire_bins.value_counts().sort_index()\n",
    "pd.DataFrame(counts).T"
   ]
  },
  {
   "cell_type": "markdown",
   "metadata": {},
   "source": [
    "**Table 3**\n",
    "\n",
    "Again, this replication only contains some of the variables used."
   ]
  },
  {
   "cell_type": "code",
   "execution_count": 8,
   "metadata": {},
   "outputs": [
    {
     "data": {
      "text/html": [
       "<div>\n",
       "<style scoped>\n",
       "    .dataframe tbody tr th:only-of-type {\n",
       "        vertical-align: middle;\n",
       "    }\n",
       "\n",
       "    .dataframe tbody tr th {\n",
       "        vertical-align: top;\n",
       "    }\n",
       "\n",
       "    .dataframe thead th {\n",
       "        text-align: right;\n",
       "    }\n",
       "</style>\n",
       "<table border=\"1\" class=\"dataframe\">\n",
       "  <thead>\n",
       "    <tr style=\"text-align: right;\">\n",
       "      <th></th>\n",
       "      <th>mean</th>\n",
       "      <th>std</th>\n",
       "      <th>min</th>\n",
       "      <th>max</th>\n",
       "    </tr>\n",
       "  </thead>\n",
       "  <tbody>\n",
       "    <tr>\n",
       "      <th>TIRE</th>\n",
       "      <td>2.62</td>\n",
       "      <td>2.63</td>\n",
       "      <td>0.00</td>\n",
       "      <td>13.00</td>\n",
       "    </tr>\n",
       "    <tr>\n",
       "      <th>TPOP</th>\n",
       "      <td>3.74</td>\n",
       "      <td>5.35</td>\n",
       "      <td>0.12</td>\n",
       "      <td>45.09</td>\n",
       "    </tr>\n",
       "    <tr>\n",
       "      <th>NGRW</th>\n",
       "      <td>-0.06</td>\n",
       "      <td>0.14</td>\n",
       "      <td>-1.34</td>\n",
       "      <td>0.00</td>\n",
       "    </tr>\n",
       "    <tr>\n",
       "      <th>PGRW</th>\n",
       "      <td>0.49</td>\n",
       "      <td>1.05</td>\n",
       "      <td>0.00</td>\n",
       "      <td>7.23</td>\n",
       "    </tr>\n",
       "    <tr>\n",
       "      <th>OCTY</th>\n",
       "      <td>0.32</td>\n",
       "      <td>0.69</td>\n",
       "      <td>0.00</td>\n",
       "      <td>8.39</td>\n",
       "    </tr>\n",
       "    <tr>\n",
       "      <th>OPOP</th>\n",
       "      <td>0.41</td>\n",
       "      <td>0.74</td>\n",
       "      <td>0.01</td>\n",
       "      <td>5.84</td>\n",
       "    </tr>\n",
       "    <tr>\n",
       "      <th>LANDV</th>\n",
       "      <td>0.29</td>\n",
       "      <td>0.23</td>\n",
       "      <td>0.07</td>\n",
       "      <td>1.64</td>\n",
       "    </tr>\n",
       "    <tr>\n",
       "      <th>ELD</th>\n",
       "      <td>0.13</td>\n",
       "      <td>0.05</td>\n",
       "      <td>0.03</td>\n",
       "      <td>0.30</td>\n",
       "    </tr>\n",
       "    <tr>\n",
       "      <th>FFRAC</th>\n",
       "      <td>0.67</td>\n",
       "      <td>0.35</td>\n",
       "      <td>0.00</td>\n",
       "      <td>1.27</td>\n",
       "    </tr>\n",
       "    <tr>\n",
       "      <th>PINC</th>\n",
       "      <td>5.91</td>\n",
       "      <td>1.13</td>\n",
       "      <td>3.16</td>\n",
       "      <td>10.50</td>\n",
       "    </tr>\n",
       "    <tr>\n",
       "      <th>LNHDD</th>\n",
       "      <td>8.59</td>\n",
       "      <td>0.47</td>\n",
       "      <td>6.83</td>\n",
       "      <td>9.20</td>\n",
       "    </tr>\n",
       "  </tbody>\n",
       "</table>\n",
       "</div>"
      ],
      "text/plain": [
       "       mean  std   min   max\n",
       "TIRE   2.62 2.63  0.00 13.00\n",
       "TPOP   3.74 5.35  0.12 45.09\n",
       "NGRW  -0.06 0.14 -1.34  0.00\n",
       "PGRW   0.49 1.05  0.00  7.23\n",
       "OCTY   0.32 0.69  0.00  8.39\n",
       "OPOP   0.41 0.74  0.01  5.84\n",
       "LANDV  0.29 0.23  0.07  1.64\n",
       "ELD    0.13 0.05  0.03  0.30\n",
       "FFRAC  0.67 0.35  0.00  1.27\n",
       "PINC   5.91 1.13  3.16 10.50\n",
       "LNHDD  8.59 0.47  6.83  9.20"
      ]
     },
     "execution_count": 8,
     "metadata": {},
     "output_type": "execute_result"
    }
   ],
   "source": [
    "df.drop(['ID'], axis=1).aggregate(['mean', 'std', 'min', 'max']).T"
   ]
  },
  {
   "cell_type": "code",
   "execution_count": 9,
   "metadata": {},
   "outputs": [
    {
     "data": {
      "text/html": [
       "<div>\n",
       "<style scoped>\n",
       "    .dataframe tbody tr th:only-of-type {\n",
       "        vertical-align: middle;\n",
       "    }\n",
       "\n",
       "    .dataframe tbody tr th {\n",
       "        vertical-align: top;\n",
       "    }\n",
       "\n",
       "    .dataframe thead th {\n",
       "        text-align: right;\n",
       "    }\n",
       "</style>\n",
       "<table border=\"1\" class=\"dataframe\">\n",
       "  <thead>\n",
       "    <tr style=\"text-align: right;\">\n",
       "      <th></th>\n",
       "      <th>count</th>\n",
       "      <th>mean</th>\n",
       "      <th>std</th>\n",
       "      <th>min</th>\n",
       "      <th>25%</th>\n",
       "      <th>50%</th>\n",
       "      <th>75%</th>\n",
       "      <th>max</th>\n",
       "    </tr>\n",
       "  </thead>\n",
       "  <tbody>\n",
       "    <tr>\n",
       "      <th>TIRE</th>\n",
       "      <td>202.00</td>\n",
       "      <td>2.62</td>\n",
       "      <td>2.63</td>\n",
       "      <td>0.00</td>\n",
       "      <td>1.00</td>\n",
       "      <td>2.00</td>\n",
       "      <td>4.00</td>\n",
       "      <td>13.00</td>\n",
       "    </tr>\n",
       "    <tr>\n",
       "      <th>TPOP</th>\n",
       "      <td>202.00</td>\n",
       "      <td>3.74</td>\n",
       "      <td>5.35</td>\n",
       "      <td>0.12</td>\n",
       "      <td>1.05</td>\n",
       "      <td>2.10</td>\n",
       "      <td>4.34</td>\n",
       "      <td>45.09</td>\n",
       "    </tr>\n",
       "    <tr>\n",
       "      <th>NGRW</th>\n",
       "      <td>202.00</td>\n",
       "      <td>-0.06</td>\n",
       "      <td>0.14</td>\n",
       "      <td>-1.34</td>\n",
       "      <td>-0.04</td>\n",
       "      <td>0.00</td>\n",
       "      <td>0.00</td>\n",
       "      <td>0.00</td>\n",
       "    </tr>\n",
       "    <tr>\n",
       "      <th>PGRW</th>\n",
       "      <td>202.00</td>\n",
       "      <td>0.49</td>\n",
       "      <td>1.05</td>\n",
       "      <td>0.00</td>\n",
       "      <td>0.00</td>\n",
       "      <td>0.08</td>\n",
       "      <td>0.42</td>\n",
       "      <td>7.23</td>\n",
       "    </tr>\n",
       "    <tr>\n",
       "      <th>OCTY</th>\n",
       "      <td>202.00</td>\n",
       "      <td>0.32</td>\n",
       "      <td>0.69</td>\n",
       "      <td>0.00</td>\n",
       "      <td>0.08</td>\n",
       "      <td>0.16</td>\n",
       "      <td>0.32</td>\n",
       "      <td>8.39</td>\n",
       "    </tr>\n",
       "    <tr>\n",
       "      <th>OPOP</th>\n",
       "      <td>202.00</td>\n",
       "      <td>0.41</td>\n",
       "      <td>0.74</td>\n",
       "      <td>0.01</td>\n",
       "      <td>0.06</td>\n",
       "      <td>0.14</td>\n",
       "      <td>0.42</td>\n",
       "      <td>5.84</td>\n",
       "    </tr>\n",
       "    <tr>\n",
       "      <th>LANDV</th>\n",
       "      <td>202.00</td>\n",
       "      <td>0.29</td>\n",
       "      <td>0.23</td>\n",
       "      <td>0.07</td>\n",
       "      <td>0.14</td>\n",
       "      <td>0.24</td>\n",
       "      <td>0.35</td>\n",
       "      <td>1.64</td>\n",
       "    </tr>\n",
       "    <tr>\n",
       "      <th>ELD</th>\n",
       "      <td>202.00</td>\n",
       "      <td>0.13</td>\n",
       "      <td>0.05</td>\n",
       "      <td>0.03</td>\n",
       "      <td>0.10</td>\n",
       "      <td>0.13</td>\n",
       "      <td>0.16</td>\n",
       "      <td>0.30</td>\n",
       "    </tr>\n",
       "    <tr>\n",
       "      <th>FFRAC</th>\n",
       "      <td>202.00</td>\n",
       "      <td>0.67</td>\n",
       "      <td>0.35</td>\n",
       "      <td>0.00</td>\n",
       "      <td>0.32</td>\n",
       "      <td>0.83</td>\n",
       "      <td>0.94</td>\n",
       "      <td>1.27</td>\n",
       "    </tr>\n",
       "    <tr>\n",
       "      <th>PINC</th>\n",
       "      <td>202.00</td>\n",
       "      <td>5.91</td>\n",
       "      <td>1.13</td>\n",
       "      <td>3.16</td>\n",
       "      <td>5.17</td>\n",
       "      <td>5.87</td>\n",
       "      <td>6.68</td>\n",
       "      <td>10.50</td>\n",
       "    </tr>\n",
       "    <tr>\n",
       "      <th>LNHDD</th>\n",
       "      <td>202.00</td>\n",
       "      <td>8.59</td>\n",
       "      <td>0.47</td>\n",
       "      <td>6.83</td>\n",
       "      <td>8.45</td>\n",
       "      <td>8.70</td>\n",
       "      <td>8.93</td>\n",
       "      <td>9.20</td>\n",
       "    </tr>\n",
       "  </tbody>\n",
       "</table>\n",
       "</div>"
      ],
      "text/plain": [
       "       count  mean  std   min   25%  50%  75%   max\n",
       "TIRE  202.00  2.62 2.63  0.00  1.00 2.00 4.00 13.00\n",
       "TPOP  202.00  3.74 5.35  0.12  1.05 2.10 4.34 45.09\n",
       "NGRW  202.00 -0.06 0.14 -1.34 -0.04 0.00 0.00  0.00\n",
       "PGRW  202.00  0.49 1.05  0.00  0.00 0.08 0.42  7.23\n",
       "OCTY  202.00  0.32 0.69  0.00  0.08 0.16 0.32  8.39\n",
       "OPOP  202.00  0.41 0.74  0.01  0.06 0.14 0.42  5.84\n",
       "LANDV 202.00  0.29 0.23  0.07  0.14 0.24 0.35  1.64\n",
       "ELD   202.00  0.13 0.05  0.03  0.10 0.13 0.16  0.30\n",
       "FFRAC 202.00  0.67 0.35  0.00  0.32 0.83 0.94  1.27\n",
       "PINC  202.00  5.91 1.13  3.16  5.17 5.87 6.68 10.50\n",
       "LNHDD 202.00  8.59 0.47  6.83  8.45 8.70 8.93  9.20"
      ]
     },
     "execution_count": 9,
     "metadata": {},
     "output_type": "execute_result"
    }
   ],
   "source": [
    "df.drop(['ID'], axis=1).describe().T"
   ]
  },
  {
   "cell_type": "markdown",
   "metadata": {},
   "source": [
    "## Model Description\n",
    "\n",
    "Following the structure of equation (4), we assume that \n",
    "\n",
    "$$\n",
    "\\Pi_N = \\bar \\Pi_N + \\epsilon = S(Y, \\lambda) V_N(Z, W, \\alpha, \\beta) - F_N(W, \\gamma) + \\epsilon, \\tag{8}\n",
    "$$\n",
    "\n",
    "where $\\lambda$, $\\alpha$, $\\beta$, and $\\gamma$ represent profit function parameters, $Y$ describes market size, $Z$ and $W$ shift per capita demand and costs, and the unobserved error term $\\epsilon$ summarizes profits that we do not observer. To simplify the estimation procedure, we assume that $\\epsilon$ has a standard normal distribution that is independently distributed across markets and is independent of our observables ($\\epsilon \\sim \\mathcal N(0,1)$). We also assume that $\\epsilon$ has zero mean and a constant variance and that each firm within a market has the same profit error. This last assumption presumes that successive entrants' profits differ only through the determinist variables in (8). Notice that we use $\\hat \\Pi_N$ to represent this deterministic portion of profits.\n"
   ]
  },
  {
   "cell_type": "markdown",
   "metadata": {},
   "source": [
    "Now, how do we calculate the likelihood function of this model? Notice that since we don't observe $\\Pi$, we won't be able to calculate residuals to plug into our MLE procedure. In the case of estimating a linear regression equation with MLE, we calculated residuals and plugged those residuals into a PDF. In our case, we can't do that. Instead, we can only use our data to *put bounds on epsilon*. Consider what is implied when we observe no firms in a market. If there are no firms, then this implies that the per-firm profits of one firm would be less than zero, $\\Pi_1 < 0$. Let's use a little algebra to see what this implies about epsilon:\n",
    "\n",
    "\\begin{gather*}\n",
    "\\Pi_1 < 0 \\\\\n",
    "\\Pi_1 = \\bar \\Pi_1 + \\epsilon < 0 \\\\\n",
    "\\epsilon < -\\bar \\Pi_1 \n",
    "\\end{gather*}\n",
    "\n",
    "Now that we see what this implies about epsilon, since we have assumed a distribution for epsilon, we can calculate what the probability (likelihood) of this occuring. The probability of observing markets with no firms equals\n",
    "\n",
    "\\begin{align*}\n",
    "P(\\Pi_1 < 0) &=  P(\\epsilon < -\\bar \\Pi_1 ) \\\\\n",
    "  &= \\Phi(-\\bar \\Pi_1) \\\\\n",
    "  &= 1 - \\Phi(\\bar \\Pi_1)\n",
    "\\end{align*}\n",
    "\n",
    "where $\\Phi(\\cdot)$ is the cumulative normal distribution function, and $\\Pi_1 = \\bar \\Pi_1 + \\epsilon$ equals a monopolist's profits. "
   ]
  },
  {
   "cell_type": "markdown",
   "metadata": {},
   "source": [
    "If $\\bar \\Pi_1 \\geq \\bar \\Pi_2 \\geq ... \\geq \\bar \\Pi_5$, the probability of observing $N$ firms in equilibrium ( $N = 1,2,3, \\text{ or } 4$ ) equals\n",
    "\n",
    "$$\n",
    "P(\\Pi_N \\geq 0 \\text{ and } \\Pi_{N+1} < 0) = \\Phi(\\bar \\Pi_N) - \\Phi(\\bar \\Pi_{N+1}).\n",
    "$$\n",
    "\n",
    "The residual probability of observing five or more firms equals\n",
    "\n",
    "$$\n",
    "P(\\Pi_5 \\geq 0) = \\Phi(\\bar \\Pi_5).\n",
    "$$\n",
    "\n",
    "Market size is modeled as a linear function of population variables. Specifically, we assume that\n",
    "\n",
    "$$\n",
    "S(Y, \\lambda) = \\text{ TPOP } + \\lambda_1 \\text{ OPOP } + \\lambda_2 \\text{ PGRW } + \\lambda_3 \\text{ NGRW } + \\lambda_4 \\text{ OCTY }. \\tag 9\n",
    "$$\n",
    "\n",
    "We set the coefficient of town population is $S(Y, \\lambda)$ equal to one because $V_N$ contains a constant term. This normalization translates units of market demand into units of current town population.\n",
    "\n",
    "We model firms' per capita variable profits, $V_N$ , as a function of the number of firms, $N$, and economic variables, $X = [W, Z].$ We assume that this function has the linear form\n",
    "\n",
    "$$V_N = \\alpha_1 + \\mathbf X \\beta - \\sum_{n=2}^N \\alpha_n. \\tag{10}$$\n",
    "\n",
    "The term $V_N = \\alpha_1 + \\mathbf X \\beta - \\sum_{n=2}^N \\alpha_n$ equal the per capita variable profit of a monopolist. "
   ]
  },
  {
   "cell_type": "markdown",
   "metadata": {},
   "source": [
    "Because we do not have detailed information on costs, we assume\n",
    "\n",
    "$$ \n",
    "F_N = \\gamma_1 + \\gamma_L W_L + \\sum_{n=2}^N \\gamma_n.\n",
    "$$\n",
    "\n",
    "The term $F_1 = \\gamma_1 + \\gamma_L W_L$ equals a monopolist's fixed costs. We include the price of agricultural land in it to capital intermarket variation in land costs. The $\\gamma_n$ terms allow later entrants to have higher costs. When we observe $\\gamma_n$ greater than zero, we conclude that later entrants have higher fixed costs. We do not known, however, whether these higher costs mean that the entran is less efficient (i.e., the supply curve of entrants is upward sloping) or it faces entry barriers."
   ]
  },
  {
   "cell_type": "markdown",
   "metadata": {},
   "source": [
    "**What is the log-likelihood function?**\n",
    "\n",
    "The log-likelihood function $\\mathcal L$ is given by\n",
    "\n",
    "$$\n",
    "\\mathcal L = \\sum_{i=1}^I  \\left( \n",
    "\\mathbb 1\\{N_i = 0\\} \\log P \\left( \\Pi_1^i < 0 \\right) + \n",
    "\\mathbb 1\\{N_i \\geq 5\\} \\log P \\left(\\Pi_5^i \\geq 0\\right) +\n",
    "\\sum_{j=1}^4 \\mathbb 1\\{N_i=j\\}  \\log P \\left(\\Pi^i_{N_i} \\geq 0 \\text{ and } \\Pi^i_{N_i+1} < 0\\right) \n",
    "\\right), \n",
    "$$\n",
    "\n",
    "$$\n",
    "$$\n",
    "\n",
    "for observations $i=1,...,I$. Note that the values of $\\Pi^i_{N_i}$ depend on the characteristics of a particular market ($W_i$, $Y_i$, $Z_i$) and the number of incumbents $N_i$ in market $i$."
   ]
  },
  {
   "cell_type": "markdown",
   "metadata": {},
   "source": [
    "**Note:**\n",
    "\n",
    "  - *Definition of Indicator Function:* When I write something like $\\mathbb 1\\{N_i = 0\\}$, note that this is an [indicator function.](https://en.wikipedia.org/wiki/Indicator_function) This is a function that is equal to 1 when the condition $N_i = 0$ is true and is equal to zero otherwise."
   ]
  },
  {
   "cell_type": "markdown",
   "metadata": {},
   "source": [
    "# HW Questions Begin\n",
    "\n",
    "**2 points for each problem**"
   ]
  },
  {
   "cell_type": "markdown",
   "metadata": {},
   "source": [
    "#### Q1. Write a function for the log-likelihood function.\n",
    "\n",
    "Write the log-likelihood function as a function of the parameter vector `theta`. Define theta such that theta includes the parameters for $\\lambda$, $\\beta$, $\\alpha$, and $\\gamma$ in a single vector. They should be defined such that \n",
    "\n",
    "```python\n",
    "lam = theta[0:4]\n",
    "beta = theta[4:8]\n",
    "alpha = theta[8:13]\n",
    "gamma = theta[13:19]\n",
    "```\n",
    "\n",
    "Evaluate the negative log-likelihood function for the parameters `theta0`, given below. This is the parameter that we will use as an initial guess to give to the optimizer. \n",
    "```python\n",
    "theta0 = np.ones(19) * 0.1\n",
    "```\n",
    "\n",
    "**Hint:**\n",
    " - The negative log-likelihood function should give approximately `800001109.2156063` for `theta0`.\n",
    " - It's normal if you get a few warnings (e.g. `RuntimeWarning: divide by zero encountered in log`). In your code you will occasionaly get probabilities at zero or close to zero. This will create values of `-inf` occasionally. Whenever a `np.log(Phi)` is equal to `-inf`, change it to `-1e+08`. That is, change it to `-100000000`.\n",
    " - We are replicating this paper for \"Tire Dealers\" only. Thus, we will use the following variables. For $V$ we will use `ELD`, `PINC`, `LNHDD`, `FFRAC`. For $F$ we will use `LANDV`. For $S$, we will use `TPOP`, `OPOP`, `NGRW`, `PGRW`, `OCTY`."
   ]
  },
  {
   "cell_type": "code",
   "execution_count": 10,
   "metadata": {},
   "outputs": [],
   "source": [
    "def V(df, Ni, alpha=np.ones(5), beta=np.ones(4)):\n",
    "    \"\"\"Per-capita variable profit\n",
    "    \n",
    "    df: data\n",
    "    Ni: number of incumbents in market i\n",
    "    alpha: alpha parameters\n",
    "    beta: beta parameters\n",
    "    \"\"\"\n",
    "    n = np.min([5, Ni])\n",
    "#     n = Ni\n",
    "    a = 0\n",
    "    for i in range(1,n):\n",
    "        a = a + alpha[i]\n",
    "    \n",
    "    \n",
    "    Z = np.c_[df.ELD, df.PINC, df.LNHDD, df.FFRAC]\n",
    "    # Don't use W in the V function for our replication\n",
    "    # W = df.LANDV\n",
    "    # X = np.c_[W, Z]\n",
    "\n",
    "    # X is an I x 4 numpy array, where I is the number of observations\n",
    "    X = np.c_[Z]\n",
    "    \n",
    "    \n",
    "    profit = alpha[0] + X @ beta - a\n",
    "    return profit\n",
    "\n",
    "def F(df, Ni, gamma=np.ones(6)):\n",
    "    n = np.min([5, Ni])\n",
    "#     n = Ni\n",
    "    g = 0\n",
    "    # gamma 2 through gamma 5 (indices 1 through 4)\n",
    "    for i in range(1,n):\n",
    "        g = g + gamma[i]\n",
    "\n",
    "    fixed_cost = gamma[0] + gamma[5] * df.LANDV + g\n",
    "    return fixed_cost\n",
    "\n",
    "def S_func(df, lam):\n",
    "    S = (df.TPOP + lam[0] * df.OPOP + lam[1] * df.NGRW + \n",
    "         lam[2] * df.PGRW + lam[3] * df.OCTY)\n",
    "    return S\n",
    "\n",
    "def neg_log_lik(theta=np.ones(19), market='TIRE', df=None):\n",
    "    lam = theta[0:4]\n",
    "    beta = theta[4:8]\n",
    "    alpha = theta[8:13]\n",
    "    gamma = theta[13:19]\n",
    "    \n",
    "    Phi = scipy.stats.norm.cdf\n",
    "    \n",
    "    S = S_func(df, lam)\n",
    "#     S = (df.TPOP + lam[0] * df.OPOP + lam[1] * df.NGRW + \n",
    "#          lam[2] * df.PGRW + lam[3] * df.OCTY)\n",
    "    \n",
    "    P = [0] * 6\n",
    "    Pi_bar = lambda N: S * V(df, N, alpha=alpha, beta=beta) - F(df, N, gamma=gamma)\n",
    "    P[0] = np.log( 1 - Phi(Pi_bar(0)) )\n",
    "    P[5] = np.log( Phi(Pi_bar(5)) )\n",
    "    for i in range(1,5):\n",
    "        P[i] = np.log( Phi(Pi_bar(i)) - Phi(Pi_bar(i+1)) )\n",
    "\n",
    "        \n",
    "    for i in range(6):\n",
    "        P[i][P[i] == -np.inf] = -100000000\n",
    "    log_lik = 0 \n",
    "    for i in range(5):\n",
    "        log_lik = log_lik + np.sum(P[i] * (df[market] == i))\n",
    "    log_lik = log_lik + np.sum(P[5] * (df[market] >= 5))\n",
    "    return -log_lik\n",
    "\n",
    "\n",
    "def theta_to_param_dict(theta):\n",
    "    lam = theta[0:4]\n",
    "    beta = theta[4:8]\n",
    "    alpha = theta[8:13]\n",
    "    gamma = theta[13:19]\n",
    "    d = {'lam': lam, 'beta': beta, 'alpha': alpha, 'gamma': gamma, 'theta': theta}\n",
    "    return d"
   ]
  },
  {
   "cell_type": "code",
   "execution_count": 11,
   "metadata": {},
   "outputs": [
    {
     "name": "stderr",
     "output_type": "stream",
     "text": [
      "C:\\Users\\Jeremy\\Anaconda3\\lib\\site-packages\\ipykernel_launcher.py:58: RuntimeWarning: divide by zero encountered in log\n",
      "C:\\Users\\Jeremy\\Anaconda3\\lib\\site-packages\\ipykernel_launcher.py:61: RuntimeWarning: divide by zero encountered in log\n"
     ]
    },
    {
     "data": {
      "text/plain": [
       "800001109.2156063"
      ]
     },
     "execution_count": 11,
     "metadata": {},
     "output_type": "execute_result"
    }
   ],
   "source": [
    "theta0 = np.ones(19) * 0.1\n",
    "neg_log_lik(df=df, theta=theta0)"
   ]
  },
  {
   "cell_type": "markdown",
   "metadata": {},
   "source": [
    "#### Q2. Compute the Maximum Likelihood Estimate\n",
    "\n",
    "Compute the maximum likelihood estimate of the model. Be sure to use lower bounds on the parameter values for $\\alpha$ and $\\gamma$ (not including $\\gamma_L$). That is, let $\\alpha_i \\geq 0$, i=1,...,5 and let $\\gamma_i \\geq 0$ for $i=1,..., 5$. Note, however, that $\\gamma_L$ is not bounded. For the initial guess, use `theta0` defined above. (It is a vector of the values `0.1`.)\n",
    "\n",
    "Hint: The value of the negative log-likelihood function at the optimum should be approximately `263.0912047584611`."
   ]
  },
  {
   "cell_type": "code",
   "execution_count": 12,
   "metadata": {},
   "outputs": [
    {
     "name": "stderr",
     "output_type": "stream",
     "text": [
      "C:\\Users\\Jeremy\\Anaconda3\\lib\\site-packages\\ipykernel_launcher.py:58: RuntimeWarning: divide by zero encountered in log\n",
      "C:\\Users\\Jeremy\\Anaconda3\\lib\\site-packages\\ipykernel_launcher.py:61: RuntimeWarning: divide by zero encountered in log\n"
     ]
    },
    {
     "name": "stdout",
     "output_type": "stream",
     "text": [
      "Wall time: 0 ns\n"
     ]
    },
    {
     "name": "stderr",
     "output_type": "stream",
     "text": [
      "C:\\Users\\Jeremy\\Anaconda3\\lib\\site-packages\\ipykernel_launcher.py:59: RuntimeWarning: divide by zero encountered in log\n"
     ]
    }
   ],
   "source": [
    "%time\n",
    "ba = [-np.inf] * 8\n",
    "bb = [0] * 10\n",
    "lower_bounds = [*ba, *bb, -np.inf]\n",
    "upper_bounds = [np.inf] * 19\n",
    "bounds = list(zip(lower_bounds, upper_bounds))\n",
    "\n",
    "theta0 = np.ones(19) * 0.1\n",
    "nll = lambda theta: neg_log_lik(theta=theta, df=df)\n",
    "out = scipy.optimize.minimize(nll, theta0, bounds=bounds, \n",
    "                              #options={'disp':True}\n",
    "                             )"
   ]
  },
  {
   "cell_type": "code",
   "execution_count": 13,
   "metadata": {},
   "outputs": [
    {
     "data": {
      "text/plain": [
       "      fun: 263.0910708522126\n",
       " hess_inv: <19x19 LbfgsInvHessProduct with dtype=float64>\n",
       "      jac: array([ 3.75734999e-03,  1.01636033e-02, -9.89075488e-04,  6.64499566e-03,\n",
       "        2.09979589e-02,  1.34474476e-01,  1.25169208e-01, -3.52372354e-02,\n",
       "        1.95825578e-02, -2.96097369e-02,  9.21431820e-03,  1.08794097e+01,\n",
       "       -2.12310169e-02, -2.72791567e-02, -1.20735422e-02, -6.71320777e-03,\n",
       "        1.99406713e-02, -8.36166691e-03, -4.61568561e-03])\n",
       "  message: b'CONVERGENCE: REL_REDUCTION_OF_F_<=_FACTR*EPSMCH'\n",
       "     nfev: 9840\n",
       "      nit: 405\n",
       "   status: 0\n",
       "  success: True\n",
       "        x: array([-0.53105114,  2.26253387,  0.34522307,  0.22698121, -0.48084866,\n",
       "       -0.03044045,  0.00350979, -0.02145047,  0.86303471,  0.03470013,\n",
       "        0.15057873,  0.        ,  0.08046184,  0.52817594,  0.75573093,\n",
       "        0.46457693,  0.59837449,  0.12016968, -0.73548591])"
      ]
     },
     "execution_count": 13,
     "metadata": {},
     "output_type": "execute_result"
    }
   ],
   "source": [
    "out"
   ]
  },
  {
   "cell_type": "markdown",
   "metadata": {},
   "source": [
    "#### Q3. Are your results close to the results in the paper?\n",
    "\n",
    "Find the correct table in the paper that contains the estimates that we are trying to match. Tell me the correct table and write out a `numpy` array below that contains the correct value of `theta`. Call this vector `theta_br`."
   ]
  },
  {
   "cell_type": "markdown",
   "metadata": {},
   "source": [
    "*Solution*\n",
    "\n",
    "`theta_br` is the vector of parameters as estimated in the Bresnahan and Reiss paper.\n",
    "\n",
    "```python\n",
    "theta_br = np.array([-0.53, 2.25, 0.34, 0.23, -0.49, -0.03,\n",
    "0.004, -0.02, 0.86, 0.03, 0.15, 0, 0.08, 0.53,\n",
    "0.76, 0.46, 0.6, 0.12, -0.74])\n",
    "```\n",
    "\n",
    "It comes from the \"Tire\" column of Table 4."
   ]
  },
  {
   "cell_type": "code",
   "execution_count": 14,
   "metadata": {},
   "outputs": [],
   "source": [
    "theta_br = np.array([-0.53, 2.25, 0.34, 0.23, -0.49, -0.03,\n",
    "0.004, -0.02, 0.86, 0.03, 0.15, 0, 0.08, 0.53,\n",
    "0.76, 0.46, 0.6, 0.12, -0.74])"
   ]
  },
  {
   "cell_type": "markdown",
   "metadata": {},
   "source": [
    "#### Q4. Use np.allclose to compute whether your estimated `theta` is close to `theta_br`.\n",
    "\n",
    "Use a very large relative tolerance of `rtol=0.2`. If I use this relative tolerance, `np.allclose` returns `True`."
   ]
  },
  {
   "cell_type": "code",
   "execution_count": 15,
   "metadata": {},
   "outputs": [
    {
     "data": {
      "text/plain": [
       "True"
      ]
     },
     "execution_count": 15,
     "metadata": {},
     "output_type": "execute_result"
    }
   ],
   "source": [
    "# Solution\n",
    "np.allclose(out.x, theta_br, rtol=0.2)"
   ]
  },
  {
   "cell_type": "markdown",
   "metadata": {},
   "source": [
    "#### Q5. Replicate the \"Tire Dealers\" row of Table 5A.\n",
    "\n",
    "**Hint:** Use the formula in equation (11) in the paper."
   ]
  },
  {
   "cell_type": "code",
   "execution_count": 16,
   "metadata": {},
   "outputs": [],
   "source": [
    "hat_theta = theta_to_param_dict(out.x)"
   ]
  },
  {
   "cell_type": "code",
   "execution_count": 17,
   "metadata": {},
   "outputs": [
    {
     "data": {
      "text/plain": [
       "{'lam': array([-0.53105114,  2.26253387,  0.34522307,  0.22698121]),\n",
       " 'beta': array([-0.48084866, -0.03044045,  0.00350979, -0.02145047]),\n",
       " 'alpha': array([0.86303471, 0.03470013, 0.15057873, 0.        , 0.08046184]),\n",
       " 'gamma': array([ 0.52817594,  0.75573093,  0.46457693,  0.59837449,  0.12016968,\n",
       "        -0.73548591]),\n",
       " 'theta': array([-0.53105114,  2.26253387,  0.34522307,  0.22698121, -0.48084866,\n",
       "        -0.03044045,  0.00350979, -0.02145047,  0.86303471,  0.03470013,\n",
       "         0.15057873,  0.        ,  0.08046184,  0.52817594,  0.75573093,\n",
       "         0.46457693,  0.59837449,  0.12016968, -0.73548591])}"
      ]
     },
     "execution_count": 17,
     "metadata": {},
     "output_type": "execute_result"
    }
   ],
   "source": [
    "hat_theta"
   ]
  },
  {
   "cell_type": "code",
   "execution_count": 18,
   "metadata": {},
   "outputs": [],
   "source": [
    "def calcS(df, theta):\n",
    "    d = theta_to_param_dict(theta)\n",
    "    S_grid = np.zeros(5)\n",
    "    \n",
    "    dfm = df.mean()\n",
    "    for i in range(5):\n",
    "        n = i + 1\n",
    "        S_grid[i] = F(dfm, n, d['gamma']) / V(dfm, n, d['alpha'], d['beta'])\n",
    "    return S_grid\n",
    "\n",
    "S_vals = calcS(df, out.x)"
   ]
  },
  {
   "cell_type": "code",
   "execution_count": 19,
   "metadata": {},
   "outputs": [
    {
     "data": {
      "text/html": [
       "<div>\n",
       "<style scoped>\n",
       "    .dataframe tbody tr th:only-of-type {\n",
       "        vertical-align: middle;\n",
       "    }\n",
       "\n",
       "    .dataframe tbody tr th {\n",
       "        vertical-align: top;\n",
       "    }\n",
       "\n",
       "    .dataframe thead th {\n",
       "        text-align: right;\n",
       "    }\n",
       "</style>\n",
       "<table border=\"1\" class=\"dataframe\">\n",
       "  <thead>\n",
       "    <tr style=\"text-align: right;\">\n",
       "      <th></th>\n",
       "      <th>S_1</th>\n",
       "      <th>S_2</th>\n",
       "      <th>S_3</th>\n",
       "      <th>S_4</th>\n",
       "      <th>S_5</th>\n",
       "    </tr>\n",
       "  </thead>\n",
       "  <tbody>\n",
       "    <tr>\n",
       "      <th>Tire Dealers</th>\n",
       "      <td>0.49</td>\n",
       "      <td>1.78</td>\n",
       "      <td>3.41</td>\n",
       "      <td>4.74</td>\n",
       "      <td>6.10</td>\n",
       "    </tr>\n",
       "  </tbody>\n",
       "</table>\n",
       "</div>"
      ],
      "text/plain": [
       "              S_1  S_2  S_3  S_4  S_5\n",
       "Tire Dealers 0.49 1.78 3.41 4.74 6.10"
      ]
     },
     "execution_count": 19,
     "metadata": {},
     "output_type": "execute_result"
    }
   ],
   "source": [
    "table5A_left = pd.DataFrame({'Tire Dealers':S_vals}).T\n",
    "table5A_left.columns = ['S_1', 'S_2', 'S_3', 'S_4', 'S_5']\n",
    "table5A_left"
   ]
  },
  {
   "cell_type": "code",
   "execution_count": 20,
   "metadata": {},
   "outputs": [],
   "source": [
    "a = [S_vals[i+1]/S_vals[i] * ((i+1)/(i+2)) for i in range(4)]\n",
    "table5A_right = pd.DataFrame(a).T\n",
    "table5A_right.columns = ['s2/s1', 's3/s2', 's4/s3', 's5/s4']"
   ]
  },
  {
   "cell_type": "code",
   "execution_count": 21,
   "metadata": {},
   "outputs": [
    {
     "data": {
      "text/html": [
       "<div>\n",
       "<style scoped>\n",
       "    .dataframe tbody tr th:only-of-type {\n",
       "        vertical-align: middle;\n",
       "    }\n",
       "\n",
       "    .dataframe tbody tr th {\n",
       "        vertical-align: top;\n",
       "    }\n",
       "\n",
       "    .dataframe thead th {\n",
       "        text-align: right;\n",
       "    }\n",
       "</style>\n",
       "<table border=\"1\" class=\"dataframe\">\n",
       "  <thead>\n",
       "    <tr style=\"text-align: right;\">\n",
       "      <th></th>\n",
       "      <th>s2/s1</th>\n",
       "      <th>s3/s2</th>\n",
       "      <th>s4/s3</th>\n",
       "      <th>s5/s4</th>\n",
       "    </tr>\n",
       "  </thead>\n",
       "  <tbody>\n",
       "    <tr>\n",
       "      <th>0</th>\n",
       "      <td>1.81</td>\n",
       "      <td>1.28</td>\n",
       "      <td>1.04</td>\n",
       "      <td>1.03</td>\n",
       "    </tr>\n",
       "  </tbody>\n",
       "</table>\n",
       "</div>"
      ],
      "text/plain": [
       "   s2/s1  s3/s2  s4/s3  s5/s4\n",
       "0   1.81   1.28   1.04   1.03"
      ]
     },
     "execution_count": 21,
     "metadata": {},
     "output_type": "execute_result"
    }
   ],
   "source": [
    "table5A_right"
   ]
  },
  {
   "cell_type": "markdown",
   "metadata": {},
   "source": [
    "#### Q6. Replicate Figure 4 for \"Tire Dealers.\""
   ]
  },
  {
   "cell_type": "code",
   "execution_count": 22,
   "metadata": {},
   "outputs": [],
   "source": [
    "SN_S5_ratio = S_vals[5-1] * np.arange(1,5+1) / (S_vals * 5)"
   ]
  },
  {
   "cell_type": "code",
   "execution_count": 23,
   "metadata": {},
   "outputs": [
    {
     "data": {
      "text/plain": [
       "array([2.48593339, 1.37173003, 1.07372383, 1.02947648, 1.        ])"
      ]
     },
     "execution_count": 23,
     "metadata": {},
     "output_type": "execute_result"
    }
   ],
   "source": [
    "SN_S5_ratio"
   ]
  },
  {
   "cell_type": "code",
   "execution_count": 24,
   "metadata": {},
   "outputs": [
    {
     "data": {
      "image/png": "[encoded data removed]",
      "text/plain": [
       "<Figure size 648x504 with 1 Axes>"
      ]
     },
     "metadata": {
      "needs_background": "light"
     },
     "output_type": "display_data"
    }
   ],
   "source": [
    "BIG = 18\n",
    "fig = plt.figure(figsize=(9,7))\n",
    "plt.plot([1,2,3,4,5], SN_S5_ratio, 'D', label='Tire Dealers')\n",
    "ax = fig.get_axes()[0]\n",
    "plt.legend(fontsize=BIG)\n",
    "plt.xlim(0,6)\n",
    "plt.ylim(0.8, 3.6)\n",
    "plt.title('Fig. 4. -- Industry ratios of $s_5$ to $s_N$ by $N$', fontsize=BIG)\n",
    "plt.xlabel('Number of Firms', fontsize=BIG)\n",
    "plt.ylabel('$s_5/s_N$', fontsize=BIG);\n",
    "# ax.set_ylabel('$s_5/s_N$', fontsize=40)"
   ]
  },
  {
   "cell_type": "markdown",
   "metadata": {},
   "source": [
    "#### Q7. Without actually doing it, explain how you would replicate the \"Tire Dealers\" row of Table 5B.\n",
    "\n",
    "Use bullet points to outline the procedure. Note that there appears to be a typo in the published paper. The row of the table should read as follows:\n",
    "\n",
    "|     .        | s45  | s345 | s2345 | s12345 |\n",
    "|-------------|------|------|-------|--------|\n",
    "| TireDealers | 0.16 | 0.71 | 8.40  | 13.64  |\n",
    "      \n",
    "I can replicate the exact values of the paper if I purposefully introduce a typo in the constraints."
   ]
  },
  {
   "cell_type": "markdown",
   "metadata": {},
   "source": [
    "**Solution**\n",
    "\n",
    "- For each column ($s_4 = s_5$, or $s_3 = s_4 = s_5$, etc.), solve for the maximum likelihood solution subject to the constraint.\n",
    "  - These constraints puts constraints on the parameter values. You will need to write a separate constraint function for each equality in each particular hypothesis to implement these constraints. This constraint function will be passed on to the optimizer.\n",
    "  - Compare the likelihood of the maximum likelihood solution under the constraint to the likelihood of the maximum likelihood solution under no constraints as per the Likelihood Ratio test statistic: \n",
    "  \n",
    "  $$LR = 2(\\ell(\\hat \\theta) - \\ell(\\hat \\theta_{constrained}) ) \\sim \\chi^2(d),$$\n",
    "  \n",
    "  where $d$ is the number of restrictions in the test (depends on the column of Table 5B).\n",
    "  - The stars on the numbers are based on the p-values of the LR stats. If the p-value is 5% or less, a star is shown.\n",
    "  \n",
    "See p. 997 in the paper for more details."
   ]
  },
  {
   "cell_type": "code",
   "execution_count": 1,
   "metadata": {},
   "outputs": [],
   "source": [
    "# The table can be replicated by using a constraint with the following expression. Note that the denominator\n",
    "# is missing a parenthesis.\n",
    "\n",
    "# s4=(gamma[0] + gamma_L*df.LANDV.mean() + np.sum(gamma[1:4]))/4*(alpha[0] + Z @ beta - np.sum(alpha[1:4]))\n",
    "# s5=(gamma[0] + gamma_L*df.LANDV.mean() + np.sum(gamma[1:5]))/5*(alpha[0] + Z @ beta - np.sum(alpha[1:5]))"
   ]
  },
  {
   "cell_type": "markdown",
   "metadata": {},
   "source": [
    "#### Q8. Approximately how long did you spend on this assignment (including the SQL portions)? (e.g. 7.5 hours)"
   ]
  },
  {
   "cell_type": "code",
   "execution_count": null,
   "metadata": {},
   "outputs": [],
   "source": []
  }
 ],
 "metadata": {
  "kernelspec": {
   "display_name": "Python 3",
   "language": "python",
   "name": "python3"
  },
  "language_info": {
   "codemirror_mode": {
    "name": "ipython",
    "version": 3
   },
   "file_extension": ".py",
   "mimetype": "text/x-python",
   "name": "python",
   "nbconvert_exporter": "python",
   "pygments_lexer": "ipython3",
   "version": "3.7.3"
  },
  "varInspector": {
   "cols": {
    "lenName": 16,
    "lenType": 16,
    "lenVar": 40
   },
   "kernels_config": {
    "python": {
     "delete_cmd_postfix": "",
     "delete_cmd_prefix": "del ",
     "library": "var_list.py",
     "varRefreshCmd": "print(var_dic_list())"
    },
    "r": {
     "delete_cmd_postfix": ") ",
     "delete_cmd_prefix": "rm(",
     "library": "var_list.r",
     "varRefreshCmd": "cat(var_dic_list()) "
    }
   },
   "types_to_exclude": [
    "module",
    "function",
    "builtin_function_or_method",
    "instance",
    "_Feature"
   ],
   "window_display": false
  }
 },
 "nbformat": 4,
 "nbformat_minor": 2
}
