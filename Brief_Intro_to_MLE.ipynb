{
 "cells": [
  {
   "cell_type": "code",
   "execution_count": 1,
   "metadata": {},
   "outputs": [],
   "source": [
    "import numpy as np\n",
    "# import autograd.numpy as np\n",
    "# import autograd\n",
    "import scipy.stats\n",
    "from scipy import optimize as opt\n",
    "import pandas as pd\n",
    "from matplotlib import pyplot as plt\n",
    "# import seaborn as sns\n",
    "# sns.set()"
   ]
  },
  {
   "cell_type": "markdown",
   "metadata": {},
   "source": [
    "### Q1. Maximum Likelihood with a biased coin\n",
    "\n",
    "Suppose that you flip an unfair (biased) coin. Each time you get \"heads\", you record a 1. A \"tails\" is a zero. Suppose that the probability `p` of a heads is fixed, but unknown. You record the following data and save it in a pandas DataFrame:\n",
    "\n",
    "```python\n",
    "df = pd.DataFrame([0,1,1,0,0,1,0,1,1,0,1,1,1,1,1,1,1,1,1,1], columns=['heads'])\n",
    "```\n",
    "Use maximum likelihood to estimate the value of `p`. Note that this can be solved analytically. However, here I want you to solve the problem using numerical optimization.\n",
    "\n",
    "\n",
    "Hint: Use `scipy.optimize.minimize_scalar` and make sure to include the keyword argument `method='bounded'` with the appropriate bounds. Assume that $0 < p < 1$."
   ]
  },
  {
   "cell_type": "markdown",
   "metadata": {},
   "source": [
    "**SOLUTION:**\n",
    "\n",
    "The log-likelihood function is given by\n",
    "\n",
    "$$\n",
    "\\ell = k \\log(p) + (n-k) \\log(1-p),\n",
    "$$\n",
    "\n",
    "where $k$ is the number of heads flipped and $n$ is the total number of coin flips."
   ]
  },
  {
   "cell_type": "code",
   "execution_count": 2,
   "metadata": {},
   "outputs": [
    {
     "data": {
      "text/plain": [
       "     fun: 11.24670289237658\n",
       " message: 'Solution found.'\n",
       "    nfev: 10\n",
       "  status: 0\n",
       " success: True\n",
       "       x: 0.7499999119032107"
      ]
     },
     "execution_count": 2,
     "metadata": {},
     "output_type": "execute_result"
    }
   ],
   "source": [
    "df = pd.DataFrame([0,1,1,0,0,1,0,1,1,0,1,1,1,1,1,1,1,1,1,1], columns=['heads'])\n",
    "\n",
    "def nll(p):\n",
    "#     p = theta[0]\n",
    "    k = df.heads.sum()\n",
    "    n = df.shape[0]\n",
    "    log_lik = k * np.log(p) + (n-k) * np.log(1-p)\n",
    "    return - log_lik\n",
    "\n",
    "out = scipy.optimize.minimize_scalar(nll, bounds=[0,1], method='bounded')\n",
    "out"
   ]
  },
  {
   "cell_type": "markdown",
   "metadata": {},
   "source": [
    "### Q2. Plot the log-likelihood function\n",
    "\n",
    "Plot the log-likelihood function over the values of 0.01 to .99. Make the plot fine enough so that you can see what's going on. (That is, if you use `linspace`, the number of points on the grid is up to you.)"
   ]
  },
  {
   "cell_type": "code",
   "execution_count": 3,
   "metadata": {},
   "outputs": [
    {
     "data": {
      "image/png": "[encoded data removed]",
      "text/plain": [
       "<Figure size 432x288 with 1 Axes>"
      ]
     },
     "metadata": {
      "needs_background": "light"
     },
     "output_type": "display_data"
    }
   ],
   "source": [
    "x = np.linspace(0.01,.99,100)\n",
    "y = -nll(x)\n",
    "plt.plot(x,y)\n",
    "plt.xlabel('p')\n",
    "plt.ylabel('log-likelihood');"
   ]
  },
  {
   "cell_type": "markdown",
   "metadata": {},
   "source": [
    "### Q3. Perform a Likelihood Ratio test to test the hypothesis that the coin is fair\n",
    "\n",
    "A fair coin is equally likely to land on heads as it is on tails. \n",
    "Test the null hypothesis that $p = .5$. Report the p-value of the test and report whether or not we should reject this hypothesis at the 5% level."
   ]
  },
  {
   "cell_type": "code",
   "execution_count": 4,
   "metadata": {},
   "outputs": [
    {
     "data": {
      "text/plain": [
       "0.02216888329055844"
      ]
     },
     "execution_count": 4,
     "metadata": {},
     "output_type": "execute_result"
    }
   ],
   "source": [
    "# p-value is smaller than 5%. Reject\n",
    "LR = 2 * (-nll(out.x) + nll(.5))\n",
    "p_value = 1 - scipy.stats.chi2.cdf(LR, 1)\n",
    "p_value"
   ]
  },
  {
   "cell_type": "markdown",
   "metadata": {},
   "source": [
    "# Linear Regression and MLE\n",
    "\n",
    "In this part of the exercise, we will use MLE to estimate the parameters of a simple linear regression model. We will then compare our estimates to the OLS estimates.\n",
    "\n",
    "Assume the following linear regression model for exploring the statistical  relationship between the duration of being ill a number of possible variables that might influence that duration. Let $sick_i$ be the number of weeks that individual is sick during the year,\n",
    "$$\n",
    "sick_i = \\beta_0 + \\beta_1 age_i + \\beta_2 children_i + \\beta temp\\_winter_i + \\epsilon_i,\n",
    "$$\n",
    "where $\\epsilon_i \\sim \\mathcal N(0, \\sigma^2)$.\n",
    "The parameters $(\\beta_0, \\beta_1, \\beta_2, \\beta_3, \\sigma^2)$ are the parameters of the model that we want to estimate. The variable $age_i$ gives the age of individual $i$ at the end of the calendar year 2016. The variable $temp\\_winter_i$ is the average temperature during the months of January, February, and December of 2016 for individual $i$. The data for this model are in the file `sick.txt`, which contains comma-separated values of 200 individuals for four variables $(sick_i, age_i, children_i, temp\\_winter_i)$ with variable labels in the first row.\n",
    "\n",
    "\n",
    "#### Q4 Estimate the parameters by maximum likelihood...\n",
    "\n",
    "Estimate the parameters of the model $(\\beta_0, \\beta_1, \\beta_2, \\beta_3, \\sigma^2)$ by maximum likelihood. Report your estimates, the value of the log-likelihood function, and the estimated variance-covariance matrix of the estimates.\n",
    "\n",
    "Hint: Solve the linear regression equation for $\\epsilon_i$ and use the information about how $\\epsilon_i$ is distributed."
   ]
  },
  {
   "cell_type": "code",
   "execution_count": 5,
   "metadata": {},
   "outputs": [],
   "source": [
    "url = 'https://raw.githubusercontent.com/jmbejara/bfi-reu-2019/master/sick.txt'\n",
    "df = pd.read_csv(url)\n",
    "sick = df.sick.values\n",
    "age = df.age.values\n",
    "children = df.children.values\n",
    "temp = df.avgtemp_winter.values"
   ]
  },
  {
   "cell_type": "code",
   "execution_count": 6,
   "metadata": {},
   "outputs": [
    {
     "data": {
      "text/html": [
       "<div>\n",
       "<style scoped>\n",
       "    .dataframe tbody tr th:only-of-type {\n",
       "        vertical-align: middle;\n",
       "    }\n",
       "\n",
       "    .dataframe tbody tr th {\n",
       "        vertical-align: top;\n",
       "    }\n",
       "\n",
       "    .dataframe thead th {\n",
       "        text-align: right;\n",
       "    }\n",
       "</style>\n",
       "<table border=\"1\" class=\"dataframe\">\n",
       "  <thead>\n",
       "    <tr style=\"text-align: right;\">\n",
       "      <th></th>\n",
       "      <th>sick</th>\n",
       "      <th>age</th>\n",
       "      <th>children</th>\n",
       "      <th>avgtemp_winter</th>\n",
       "    </tr>\n",
       "  </thead>\n",
       "  <tbody>\n",
       "    <tr>\n",
       "      <th>0</th>\n",
       "      <td>1.67</td>\n",
       "      <td>57.47</td>\n",
       "      <td>3.04</td>\n",
       "      <td>54.10</td>\n",
       "    </tr>\n",
       "    <tr>\n",
       "      <th>1</th>\n",
       "      <td>0.71</td>\n",
       "      <td>26.77</td>\n",
       "      <td>1.20</td>\n",
       "      <td>36.54</td>\n",
       "    </tr>\n",
       "    <tr>\n",
       "      <th>2</th>\n",
       "      <td>1.39</td>\n",
       "      <td>41.85</td>\n",
       "      <td>2.31</td>\n",
       "      <td>32.38</td>\n",
       "    </tr>\n",
       "    <tr>\n",
       "      <th>3</th>\n",
       "      <td>1.37</td>\n",
       "      <td>51.27</td>\n",
       "      <td>2.46</td>\n",
       "      <td>52.94</td>\n",
       "    </tr>\n",
       "    <tr>\n",
       "      <th>4</th>\n",
       "      <td>1.45</td>\n",
       "      <td>44.22</td>\n",
       "      <td>2.72</td>\n",
       "      <td>45.90</td>\n",
       "    </tr>\n",
       "  </tbody>\n",
       "</table>\n",
       "</div>"
      ],
      "text/plain": [
       "   sick    age  children  avgtemp_winter\n",
       "0  1.67  57.47      3.04           54.10\n",
       "1  0.71  26.77      1.20           36.54\n",
       "2  1.39  41.85      2.31           32.38\n",
       "3  1.37  51.27      2.46           52.94\n",
       "4  1.45  44.22      2.72           45.90"
      ]
     },
     "execution_count": 6,
     "metadata": {},
     "output_type": "execute_result"
    }
   ],
   "source": [
    "df.head()"
   ]
  },
  {
   "cell_type": "code",
   "execution_count": 7,
   "metadata": {},
   "outputs": [
    {
     "name": "stdout",
     "output_type": "stream",
     "text": [
      "The parameter from beta_0 to sigma is:  [ 0.25164696  0.0129334   0.40050156 -0.00999171  0.00301777]\n",
      "MLE_Log-likelihood:  876.8650470218196\n",
      "Variance CoVariance Matrix (MLE) = \n",
      "[[ 8.95220732e-07  1.18060705e-08 -2.02774294e-07 -2.27656435e-08\n",
      "   3.36234635e-09]\n",
      " [ 1.18060705e-08  3.89770154e-09 -3.43642499e-08 -2.55579432e-09\n",
      "   2.11698918e-11]\n",
      " [-2.02774294e-07 -3.43642499e-08  3.56241307e-07  2.27346736e-08\n",
      "  -1.86687499e-09]\n",
      " [-2.27656435e-08 -2.55579432e-09  2.27346736e-08  2.01821875e-09\n",
      "  -4.81914135e-11]\n",
      " [ 3.36234635e-09  2.11698918e-11 -1.86687499e-09 -4.81914135e-11\n",
      "   2.31587509e-08]]\n"
     ]
    },
    {
     "name": "stderr",
     "output_type": "stream",
     "text": [
      "C:\\Users\\Jeremy\\Anaconda3\\lib\\site-packages\\ipykernel_launcher.py:18: RuntimeWarning: divide by zero encountered in log\n",
      "C:\\Users\\Jeremy\\Anaconda3\\lib\\site-packages\\scipy\\optimize\\optimize.py:670: RuntimeWarning: invalid value encountered in double_scalars\n",
      "  grad[k] = (f(*((xk + d,) + args)) - f0) / d[k]\n",
      "C:\\Users\\Jeremy\\Anaconda3\\lib\\site-packages\\ipykernel_launcher.py:18: RuntimeWarning: divide by zero encountered in log\n"
     ]
    }
   ],
   "source": [
    "\n",
    "# Get a pdf of normal function\n",
    "# def norm_pdf(xvals, mu=0, sigma=1):\n",
    "#     pdf_vals = (1/ (sigma * np.sqrt(2 * np.pi)) * \n",
    "#                 np.exp( - np.power(xvals - mu, 2) / (2 * np.power(sigma, 2)) ))\n",
    "#     return pdf_vals\n",
    "\n",
    "\n",
    "def norm_pdf(xvals, mu=0, sigma=1):\n",
    "    pdf_vals = (1/ (sigma * np.sqrt(2 * np.pi)) * \n",
    "                np.exp( - (xvals - mu)**2 / (2 * sigma**2) ))\n",
    "    return pdf_vals\n",
    "\n",
    "\n",
    "# get a log likelihood estimation\n",
    "def log_lik_norm(xvals, mu=0, sigma=1):\n",
    "    pdf_vals = norm_pdf(xvals, mu, sigma)\n",
    "    return np.sum(np.log(pdf_vals))\n",
    "\n",
    "\n",
    "# get  a log likelihood for a regression using certain parameters and \n",
    "# certain data\n",
    "def neg_log_lik_reg(params, *data):\n",
    "    beta_0, beta_1, beta_2, beta_3, sigma = params\n",
    "    sick, age, children, temp = data\n",
    "    xvals = sick - beta_0 - beta_1 * age - beta_2 * children - beta_3 * temp\n",
    "    log_lik_val = log_lik_norm(xvals, mu=0, sigma=sigma)\n",
    "    return -log_lik_val\n",
    "\n",
    "beta_0_init = 0\n",
    "beta_1_init  = 0\n",
    "beta_2_init  = 0\n",
    "beta_3_init  = 0\n",
    "sigma_init = 1\n",
    "params_init = np.array([beta_0_init, beta_1_init, beta_2_init, \n",
    "                        beta_3_init, sigma_init])\n",
    "mle_args = sick, age, children, temp\n",
    "# bounds = [(None, None)] * 4 + [(0.00001, None)]\n",
    "# results = opt.minimize(neg_log_lik_reg, params_init, args=(mle_args), bounds=bounds)\n",
    "results = opt.minimize(neg_log_lik_reg, params_init, args=(mle_args))\n",
    "\n",
    "print('The parameter from beta_0 to sigma is: ', results.x )\n",
    "print('MLE_Log-likelihood: ', -results.fun)\n",
    "\n",
    "vcv_mle = np.array(results.hess_inv)\n",
    "print('Variance CoVariance Matrix (MLE) = ')\n",
    "print(vcv_mle)"
   ]
  },
  {
   "cell_type": "code",
   "execution_count": 8,
   "metadata": {},
   "outputs": [
    {
     "data": {
      "text/plain": [
       "array([[ 1.        ,  0.19986466, -0.35906717, -0.53558789,  0.02335177],\n",
       "       [ 0.19986466,  1.        , -0.9222113 , -0.9112499 ,  0.00222821],\n",
       "       [-0.35906717, -0.9222113 ,  1.        ,  0.84787624, -0.02055349],\n",
       "       [-0.53558789, -0.9112499 ,  0.84787624,  1.        , -0.00704901],\n",
       "       [ 0.02335177,  0.00222821, -0.02055349, -0.00704901,  1.        ]])"
      ]
     },
     "execution_count": 8,
     "metadata": {},
     "output_type": "execute_result"
    }
   ],
   "source": [
    "import statsmodels.stats.moment_helpers\n",
    "corr_matrix, std_error = statsmodels.stats.moment_helpers.cov2corr(results.hess_inv, return_std=True)\n",
    "corr_matrix"
   ]
  },
  {
   "cell_type": "code",
   "execution_count": 9,
   "metadata": {},
   "outputs": [
    {
     "data": {
      "text/plain": [
       "array([9.46161050e-04, 6.24315749e-05, 5.96859537e-04, 4.49245895e-05,\n",
       "       1.52179995e-04])"
      ]
     },
     "execution_count": 9,
     "metadata": {},
     "output_type": "execute_result"
    }
   ],
   "source": [
    "std_error"
   ]
  },
  {
   "cell_type": "markdown",
   "metadata": {},
   "source": [
    "#### Q5. Estimate the parameters using OLS\n",
    "\n",
    "Use the `statsmodels` package to estimate the parameters using OLS. Use the formula API of stats models. Do these estimate match the estimates from MLE?\n",
    "\n",
    "Hint:\n",
    "\n",
    "```python\n",
    "import statsmodels.formula.api as smf\n",
    "results_ols = smf.ols( ... YOUR_CODE_HERE ... ).fit()\n",
    "YOUR_CODE_HERE\n",
    "```\n",
    "\n",
    "Also, in order to estimate the standard deviation of the error, you can use\n",
    "`results_ols.resid.std()`."
   ]
  },
  {
   "cell_type": "code",
   "execution_count": 10,
   "metadata": {},
   "outputs": [],
   "source": [
    "import statsmodels.formula.api as smf"
   ]
  },
  {
   "cell_type": "code",
   "execution_count": 11,
   "metadata": {},
   "outputs": [],
   "source": [
    "results_ols = smf.ols('sick ~ age + children + avgtemp_winter', data=df).fit()"
   ]
  },
  {
   "cell_type": "code",
   "execution_count": 12,
   "metadata": {},
   "outputs": [
    {
     "data": {
      "text/html": [
       "<table class=\"simpletable\">\n",
       "<caption>OLS Regression Results</caption>\n",
       "<tr>\n",
       "  <th>Dep. Variable:</th>          <td>sick</td>       <th>  R-squared:         </th> <td>   1.000</td> \n",
       "</tr>\n",
       "<tr>\n",
       "  <th>Model:</th>                   <td>OLS</td>       <th>  Adj. R-squared:    </th> <td>   1.000</td> \n",
       "</tr>\n",
       "<tr>\n",
       "  <th>Method:</th>             <td>Least Squares</td>  <th>  F-statistic:       </th> <td>1.815e+06</td>\n",
       "</tr>\n",
       "<tr>\n",
       "  <th>Date:</th>             <td>Tue, 02 Jul 2019</td> <th>  Prob (F-statistic):</th>  <td>  0.00</td>  \n",
       "</tr>\n",
       "<tr>\n",
       "  <th>Time:</th>                 <td>12:50:25</td>     <th>  Log-Likelihood:    </th> <td>  876.87</td> \n",
       "</tr>\n",
       "<tr>\n",
       "  <th>No. Observations:</th>      <td>   200</td>      <th>  AIC:               </th> <td>  -1746.</td> \n",
       "</tr>\n",
       "<tr>\n",
       "  <th>Df Residuals:</th>          <td>   196</td>      <th>  BIC:               </th> <td>  -1733.</td> \n",
       "</tr>\n",
       "<tr>\n",
       "  <th>Df Model:</th>              <td>     3</td>      <th>                     </th>     <td> </td>    \n",
       "</tr>\n",
       "<tr>\n",
       "  <th>Covariance Type:</th>      <td>nonrobust</td>    <th>                     </th>     <td> </td>    \n",
       "</tr>\n",
       "</table>\n",
       "<table class=\"simpletable\">\n",
       "<tr>\n",
       "         <td></td>           <th>coef</th>     <th>std err</th>      <th>t</th>      <th>P>|t|</th>  <th>[0.025</th>    <th>0.975]</th>  \n",
       "</tr>\n",
       "<tr>\n",
       "  <th>Intercept</th>      <td>    0.2516</td> <td>    0.001</td> <td>  254.032</td> <td> 0.000</td> <td>    0.250</td> <td>    0.254</td>\n",
       "</tr>\n",
       "<tr>\n",
       "  <th>age</th>            <td>    0.0129</td> <td> 6.49e-05</td> <td>  199.257</td> <td> 0.000</td> <td>    0.013</td> <td>    0.013</td>\n",
       "</tr>\n",
       "<tr>\n",
       "  <th>children</th>       <td>    0.4005</td> <td>    0.001</td> <td>  643.790</td> <td> 0.000</td> <td>    0.399</td> <td>    0.402</td>\n",
       "</tr>\n",
       "<tr>\n",
       "  <th>avgtemp_winter</th> <td>   -0.0100</td> <td> 4.51e-05</td> <td> -221.388</td> <td> 0.000</td> <td>   -0.010</td> <td>   -0.010</td>\n",
       "</tr>\n",
       "</table>\n",
       "<table class=\"simpletable\">\n",
       "<tr>\n",
       "  <th>Omnibus:</th>       <td>24.095</td> <th>  Durbin-Watson:     </th> <td>   1.997</td>\n",
       "</tr>\n",
       "<tr>\n",
       "  <th>Prob(Omnibus):</th> <td> 0.000</td> <th>  Jarque-Bera (JB):  </th> <td>   7.115</td>\n",
       "</tr>\n",
       "<tr>\n",
       "  <th>Skew:</th>          <td>-0.002</td> <th>  Prob(JB):          </th> <td>  0.0285</td>\n",
       "</tr>\n",
       "<tr>\n",
       "  <th>Kurtosis:</th>      <td> 2.076</td> <th>  Cond. No.          </th> <td>    290.</td>\n",
       "</tr>\n",
       "</table><br/><br/>Warnings:<br/>[1] Standard Errors assume that the covariance matrix of the errors is correctly specified."
      ],
      "text/plain": [
       "<class 'statsmodels.iolib.summary.Summary'>\n",
       "\"\"\"\n",
       "                            OLS Regression Results                            \n",
       "==============================================================================\n",
       "Dep. Variable:                   sick   R-squared:                       1.000\n",
       "Model:                            OLS   Adj. R-squared:                  1.000\n",
       "Method:                 Least Squares   F-statistic:                 1.815e+06\n",
       "Date:                Tue, 02 Jul 2019   Prob (F-statistic):               0.00\n",
       "Time:                        12:50:25   Log-Likelihood:                 876.87\n",
       "No. Observations:                 200   AIC:                            -1746.\n",
       "Df Residuals:                     196   BIC:                            -1733.\n",
       "Df Model:                           3                                         \n",
       "Covariance Type:            nonrobust                                         \n",
       "==================================================================================\n",
       "                     coef    std err          t      P>|t|      [0.025      0.975]\n",
       "----------------------------------------------------------------------------------\n",
       "Intercept          0.2516      0.001    254.032      0.000       0.250       0.254\n",
       "age                0.0129   6.49e-05    199.257      0.000       0.013       0.013\n",
       "children           0.4005      0.001    643.790      0.000       0.399       0.402\n",
       "avgtemp_winter    -0.0100   4.51e-05   -221.388      0.000      -0.010      -0.010\n",
       "==============================================================================\n",
       "Omnibus:                       24.095   Durbin-Watson:                   1.997\n",
       "Prob(Omnibus):                  0.000   Jarque-Bera (JB):                7.115\n",
       "Skew:                          -0.002   Prob(JB):                       0.0285\n",
       "Kurtosis:                       2.076   Cond. No.                         290.\n",
       "==============================================================================\n",
       "\n",
       "Warnings:\n",
       "[1] Standard Errors assume that the covariance matrix of the errors is correctly specified.\n",
       "\"\"\""
      ]
     },
     "execution_count": 12,
     "metadata": {},
     "output_type": "execute_result"
    }
   ],
   "source": [
    "results_ols.summary()"
   ]
  },
  {
   "cell_type": "code",
   "execution_count": 13,
   "metadata": {},
   "outputs": [
    {
     "data": {
      "text/plain": [
       "array([ 0.25164696,  0.0129334 ,  0.40050156, -0.00999171,  0.00301777])"
      ]
     },
     "execution_count": 13,
     "metadata": {},
     "output_type": "execute_result"
    }
   ],
   "source": [
    "results.x"
   ]
  },
  {
   "cell_type": "code",
   "execution_count": 14,
   "metadata": {},
   "outputs": [
    {
     "data": {
      "text/plain": [
       "0.0030252617773928944"
      ]
     },
     "execution_count": 14,
     "metadata": {},
     "output_type": "execute_result"
    }
   ],
   "source": [
    "results_ols.resid.std()"
   ]
  },
  {
   "cell_type": "code",
   "execution_count": null,
   "metadata": {},
   "outputs": [],
   "source": []
  }
 ],
 "metadata": {
  "kernelspec": {
   "display_name": "Python 3",
   "language": "python",
   "name": "python3"
  },
  "language_info": {
   "codemirror_mode": {
    "name": "ipython",
    "version": 3
   },
   "file_extension": ".py",
   "mimetype": "text/x-python",
   "name": "python",
   "nbconvert_exporter": "python",
   "pygments_lexer": "ipython3",
   "version": "3.7.3"
  }
 },
 "nbformat": 4,
 "nbformat_minor": 2
}
